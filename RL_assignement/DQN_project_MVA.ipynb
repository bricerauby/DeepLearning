{
  "nbformat": 4,
  "nbformat_minor": 0,
  "metadata": {
    "accelerator": "GPU",
    "colab": {
      "name": "DQN_project_MVA.ipynb",
      "provenance": [],
      "collapsed_sections": [],
      "toc_visible": true
    },
    "kernelspec": {
      "display_name": "deep_learning_rl_project",
      "language": "python",
      "name": "deep_learning_rl_project"
    },
    "language_info": {
      "codemirror_mode": {
        "name": "ipython",
        "version": 3
      },
      "file_extension": ".py",
      "mimetype": "text/x-python",
      "name": "python",
      "nbconvert_exporter": "python",
      "pygments_lexer": "ipython3",
      "version": "3.6.9"
    }
  },
  "cells": [
    {
      "cell_type": "markdown",
      "metadata": {
        "colab_type": "text",
        "id": "iwzMCP6_VHYk"
      },
      "source": [
        "**You may need to install [OpenCV](https://pypi.python.org/pypi/opencv-python) and [scikit-video](http://www.scikit-video.org/stable/).**"
      ]
    },
    {
      "cell_type": "code",
      "metadata": {
        "colab_type": "code",
        "id": "03GumqAdVVys",
        "outputId": "b7acd836-ce3d-4920-9887-c647eb9559f8",
        "colab": {
          "base_uri": "https://localhost:8080/",
          "height": 153
        }
      },
      "source": [
        "! pip install scikit-video"
      ],
      "execution_count": 1,
      "outputs": [
        {
          "output_type": "stream",
          "text": [
            "Collecting scikit-video\n",
            "\u001b[?25l  Downloading https://files.pythonhosted.org/packages/b1/a6/c69cad508139a342810ae46e946ebb3256aa6e42f690d901bb68f50582e3/scikit_video-1.1.11-py2.py3-none-any.whl (2.3MB)\n",
            "\r\u001b[K     |▏                               | 10kB 22.0MB/s eta 0:00:01\r\u001b[K     |▎                               | 20kB 30.2MB/s eta 0:00:01\r\u001b[K     |▍                               | 30kB 34.2MB/s eta 0:00:01\r\u001b[K     |▋                               | 40kB 32.7MB/s eta 0:00:01\r\u001b[K     |▊                               | 51kB 28.4MB/s eta 0:00:01\r\u001b[K     |▉                               | 61kB 31.5MB/s eta 0:00:01\r\u001b[K     |█                               | 71kB 22.3MB/s eta 0:00:01\r\u001b[K     |█▏                              | 81kB 21.5MB/s eta 0:00:01\r\u001b[K     |█▎                              | 92kB 22.4MB/s eta 0:00:01\r\u001b[K     |█▌                              | 102kB 22.6MB/s eta 0:00:01\r\u001b[K     |█▋                              | 112kB 22.6MB/s eta 0:00:01\r\u001b[K     |█▊                              | 122kB 22.6MB/s eta 0:00:01\r\u001b[K     |██                              | 133kB 22.6MB/s eta 0:00:01\r\u001b[K     |██                              | 143kB 22.6MB/s eta 0:00:01\r\u001b[K     |██▏                             | 153kB 22.6MB/s eta 0:00:01\r\u001b[K     |██▎                             | 163kB 22.6MB/s eta 0:00:01\r\u001b[K     |██▌                             | 174kB 22.6MB/s eta 0:00:01\r\u001b[K     |██▋                             | 184kB 22.6MB/s eta 0:00:01\r\u001b[K     |██▊                             | 194kB 22.6MB/s eta 0:00:01\r\u001b[K     |███                             | 204kB 22.6MB/s eta 0:00:01\r\u001b[K     |███                             | 215kB 22.6MB/s eta 0:00:01\r\u001b[K     |███▏                            | 225kB 22.6MB/s eta 0:00:01\r\u001b[K     |███▍                            | 235kB 22.6MB/s eta 0:00:01\r\u001b[K     |███▌                            | 245kB 22.6MB/s eta 0:00:01\r\u001b[K     |███▋                            | 256kB 22.6MB/s eta 0:00:01\r\u001b[K     |███▉                            | 266kB 22.6MB/s eta 0:00:01\r\u001b[K     |████                            | 276kB 22.6MB/s eta 0:00:01\r\u001b[K     |████                            | 286kB 22.6MB/s eta 0:00:01\r\u001b[K     |████▏                           | 296kB 22.6MB/s eta 0:00:01\r\u001b[K     |████▍                           | 307kB 22.6MB/s eta 0:00:01\r\u001b[K     |████▌                           | 317kB 22.6MB/s eta 0:00:01\r\u001b[K     |████▋                           | 327kB 22.6MB/s eta 0:00:01\r\u001b[K     |████▉                           | 337kB 22.6MB/s eta 0:00:01\r\u001b[K     |█████                           | 348kB 22.6MB/s eta 0:00:01\r\u001b[K     |█████                           | 358kB 22.6MB/s eta 0:00:01\r\u001b[K     |█████▎                          | 368kB 22.6MB/s eta 0:00:01\r\u001b[K     |█████▍                          | 378kB 22.6MB/s eta 0:00:01\r\u001b[K     |█████▌                          | 389kB 22.6MB/s eta 0:00:01\r\u001b[K     |█████▊                          | 399kB 22.6MB/s eta 0:00:01\r\u001b[K     |█████▉                          | 409kB 22.6MB/s eta 0:00:01\r\u001b[K     |██████                          | 419kB 22.6MB/s eta 0:00:01\r\u001b[K     |██████                          | 430kB 22.6MB/s eta 0:00:01\r\u001b[K     |██████▎                         | 440kB 22.6MB/s eta 0:00:01\r\u001b[K     |██████▍                         | 450kB 22.6MB/s eta 0:00:01\r\u001b[K     |██████▌                         | 460kB 22.6MB/s eta 0:00:01\r\u001b[K     |██████▊                         | 471kB 22.6MB/s eta 0:00:01\r\u001b[K     |██████▉                         | 481kB 22.6MB/s eta 0:00:01\r\u001b[K     |███████                         | 491kB 22.6MB/s eta 0:00:01\r\u001b[K     |███████▏                        | 501kB 22.6MB/s eta 0:00:01\r\u001b[K     |███████▎                        | 512kB 22.6MB/s eta 0:00:01\r\u001b[K     |███████▍                        | 522kB 22.6MB/s eta 0:00:01\r\u001b[K     |███████▋                        | 532kB 22.6MB/s eta 0:00:01\r\u001b[K     |███████▊                        | 542kB 22.6MB/s eta 0:00:01\r\u001b[K     |███████▉                        | 552kB 22.6MB/s eta 0:00:01\r\u001b[K     |████████                        | 563kB 22.6MB/s eta 0:00:01\r\u001b[K     |████████▏                       | 573kB 22.6MB/s eta 0:00:01\r\u001b[K     |████████▎                       | 583kB 22.6MB/s eta 0:00:01\r\u001b[K     |████████▍                       | 593kB 22.6MB/s eta 0:00:01\r\u001b[K     |████████▋                       | 604kB 22.6MB/s eta 0:00:01\r\u001b[K     |████████▊                       | 614kB 22.6MB/s eta 0:00:01\r\u001b[K     |████████▉                       | 624kB 22.6MB/s eta 0:00:01\r\u001b[K     |█████████                       | 634kB 22.6MB/s eta 0:00:01\r\u001b[K     |█████████▏                      | 645kB 22.6MB/s eta 0:00:01\r\u001b[K     |█████████▎                      | 655kB 22.6MB/s eta 0:00:01\r\u001b[K     |█████████▌                      | 665kB 22.6MB/s eta 0:00:01\r\u001b[K     |█████████▋                      | 675kB 22.6MB/s eta 0:00:01\r\u001b[K     |█████████▊                      | 686kB 22.6MB/s eta 0:00:01\r\u001b[K     |█████████▉                      | 696kB 22.6MB/s eta 0:00:01\r\u001b[K     |██████████                      | 706kB 22.6MB/s eta 0:00:01\r\u001b[K     |██████████▏                     | 716kB 22.6MB/s eta 0:00:01\r\u001b[K     |██████████▎                     | 727kB 22.6MB/s eta 0:00:01\r\u001b[K     |██████████▌                     | 737kB 22.6MB/s eta 0:00:01\r\u001b[K     |██████████▋                     | 747kB 22.6MB/s eta 0:00:01\r\u001b[K     |██████████▊                     | 757kB 22.6MB/s eta 0:00:01\r\u001b[K     |███████████                     | 768kB 22.6MB/s eta 0:00:01\r\u001b[K     |███████████                     | 778kB 22.6MB/s eta 0:00:01\r\u001b[K     |███████████▏                    | 788kB 22.6MB/s eta 0:00:01\r\u001b[K     |███████████▍                    | 798kB 22.6MB/s eta 0:00:01\r\u001b[K     |███████████▌                    | 808kB 22.6MB/s eta 0:00:01\r\u001b[K     |███████████▋                    | 819kB 22.6MB/s eta 0:00:01\r\u001b[K     |███████████▊                    | 829kB 22.6MB/s eta 0:00:01\r\u001b[K     |████████████                    | 839kB 22.6MB/s eta 0:00:01\r\u001b[K     |████████████                    | 849kB 22.6MB/s eta 0:00:01\r\u001b[K     |████████████▏                   | 860kB 22.6MB/s eta 0:00:01\r\u001b[K     |████████████▍                   | 870kB 22.6MB/s eta 0:00:01\r\u001b[K     |████████████▌                   | 880kB 22.6MB/s eta 0:00:01\r\u001b[K     |████████████▋                   | 890kB 22.6MB/s eta 0:00:01\r\u001b[K     |████████████▉                   | 901kB 22.6MB/s eta 0:00:01\r\u001b[K     |█████████████                   | 911kB 22.6MB/s eta 0:00:01\r\u001b[K     |█████████████                   | 921kB 22.6MB/s eta 0:00:01\r\u001b[K     |█████████████▎                  | 931kB 22.6MB/s eta 0:00:01\r\u001b[K     |█████████████▍                  | 942kB 22.6MB/s eta 0:00:01\r\u001b[K     |█████████████▌                  | 952kB 22.6MB/s eta 0:00:01\r\u001b[K     |█████████████▋                  | 962kB 22.6MB/s eta 0:00:01\r\u001b[K     |█████████████▉                  | 972kB 22.6MB/s eta 0:00:01\r\u001b[K     |██████████████                  | 983kB 22.6MB/s eta 0:00:01\r\u001b[K     |██████████████                  | 993kB 22.6MB/s eta 0:00:01\r\u001b[K     |██████████████▎                 | 1.0MB 22.6MB/s eta 0:00:01\r\u001b[K     |██████████████▍                 | 1.0MB 22.6MB/s eta 0:00:01\r\u001b[K     |██████████████▌                 | 1.0MB 22.6MB/s eta 0:00:01\r\u001b[K     |██████████████▊                 | 1.0MB 22.6MB/s eta 0:00:01\r\u001b[K     |██████████████▉                 | 1.0MB 22.6MB/s eta 0:00:01\r\u001b[K     |███████████████                 | 1.1MB 22.6MB/s eta 0:00:01\r\u001b[K     |███████████████▏                | 1.1MB 22.6MB/s eta 0:00:01\r\u001b[K     |███████████████▎                | 1.1MB 22.6MB/s eta 0:00:01\r\u001b[K     |███████████████▍                | 1.1MB 22.6MB/s eta 0:00:01\r\u001b[K     |███████████████▌                | 1.1MB 22.6MB/s eta 0:00:01\r\u001b[K     |███████████████▊                | 1.1MB 22.6MB/s eta 0:00:01\r\u001b[K     |███████████████▉                | 1.1MB 22.6MB/s eta 0:00:01\r\u001b[K     |████████████████                | 1.1MB 22.6MB/s eta 0:00:01\r\u001b[K     |████████████████▏               | 1.1MB 22.6MB/s eta 0:00:01\r\u001b[K     |████████████████▎               | 1.1MB 22.6MB/s eta 0:00:01\r\u001b[K     |████████████████▍               | 1.2MB 22.6MB/s eta 0:00:01\r\u001b[K     |████████████████▋               | 1.2MB 22.6MB/s eta 0:00:01\r\u001b[K     |████████████████▊               | 1.2MB 22.6MB/s eta 0:00:01\r\u001b[K     |████████████████▉               | 1.2MB 22.6MB/s eta 0:00:01\r\u001b[K     |█████████████████               | 1.2MB 22.6MB/s eta 0:00:01\r\u001b[K     |█████████████████▏              | 1.2MB 22.6MB/s eta 0:00:01\r\u001b[K     |█████████████████▎              | 1.2MB 22.6MB/s eta 0:00:01\r\u001b[K     |█████████████████▍              | 1.2MB 22.6MB/s eta 0:00:01\r\u001b[K     |█████████████████▋              | 1.2MB 22.6MB/s eta 0:00:01\r\u001b[K     |█████████████████▊              | 1.2MB 22.6MB/s eta 0:00:01\r\u001b[K     |█████████████████▉              | 1.3MB 22.6MB/s eta 0:00:01\r\u001b[K     |██████████████████              | 1.3MB 22.6MB/s eta 0:00:01\r\u001b[K     |██████████████████▏             | 1.3MB 22.6MB/s eta 0:00:01\r\u001b[K     |██████████████████▎             | 1.3MB 22.6MB/s eta 0:00:01\r\u001b[K     |██████████████████▌             | 1.3MB 22.6MB/s eta 0:00:01\r\u001b[K     |██████████████████▋             | 1.3MB 22.6MB/s eta 0:00:01\r\u001b[K     |██████████████████▊             | 1.3MB 22.6MB/s eta 0:00:01\r\u001b[K     |███████████████████             | 1.3MB 22.6MB/s eta 0:00:01\r\u001b[K     |███████████████████             | 1.3MB 22.6MB/s eta 0:00:01\r\u001b[K     |███████████████████▏            | 1.4MB 22.6MB/s eta 0:00:01\r\u001b[K     |███████████████████▎            | 1.4MB 22.6MB/s eta 0:00:01\r\u001b[K     |███████████████████▌            | 1.4MB 22.6MB/s eta 0:00:01\r\u001b[K     |███████████████████▋            | 1.4MB 22.6MB/s eta 0:00:01\r\u001b[K     |███████████████████▊            | 1.4MB 22.6MB/s eta 0:00:01\r\u001b[K     |████████████████████            | 1.4MB 22.6MB/s eta 0:00:01\r\u001b[K     |████████████████████            | 1.4MB 22.6MB/s eta 0:00:01\r\u001b[K     |████████████████████▏           | 1.4MB 22.6MB/s eta 0:00:01\r\u001b[K     |████████████████████▍           | 1.4MB 22.6MB/s eta 0:00:01\r\u001b[K     |████████████████████▌           | 1.4MB 22.6MB/s eta 0:00:01\r\u001b[K     |████████████████████▋           | 1.5MB 22.6MB/s eta 0:00:01\r\u001b[K     |████████████████████▉           | 1.5MB 22.6MB/s eta 0:00:01\r\u001b[K     |█████████████████████           | 1.5MB 22.6MB/s eta 0:00:01\r\u001b[K     |█████████████████████           | 1.5MB 22.6MB/s eta 0:00:01\r\u001b[K     |█████████████████████▏          | 1.5MB 22.6MB/s eta 0:00:01\r\u001b[K     |█████████████████████▍          | 1.5MB 22.6MB/s eta 0:00:01\r\u001b[K     |█████████████████████▌          | 1.5MB 22.6MB/s eta 0:00:01\r\u001b[K     |█████████████████████▋          | 1.5MB 22.6MB/s eta 0:00:01\r\u001b[K     |█████████████████████▉          | 1.5MB 22.6MB/s eta 0:00:01\r\u001b[K     |██████████████████████          | 1.5MB 22.6MB/s eta 0:00:01\r\u001b[K     |██████████████████████          | 1.6MB 22.6MB/s eta 0:00:01\r\u001b[K     |██████████████████████▎         | 1.6MB 22.6MB/s eta 0:00:01\r\u001b[K     |██████████████████████▍         | 1.6MB 22.6MB/s eta 0:00:01\r\u001b[K     |██████████████████████▌         | 1.6MB 22.6MB/s eta 0:00:01\r\u001b[K     |██████████████████████▊         | 1.6MB 22.6MB/s eta 0:00:01\r\u001b[K     |██████████████████████▉         | 1.6MB 22.6MB/s eta 0:00:01\r\u001b[K     |███████████████████████         | 1.6MB 22.6MB/s eta 0:00:01\r\u001b[K     |███████████████████████         | 1.6MB 22.6MB/s eta 0:00:01\r\u001b[K     |███████████████████████▎        | 1.6MB 22.6MB/s eta 0:00:01\r\u001b[K     |███████████████████████▍        | 1.6MB 22.6MB/s eta 0:00:01\r\u001b[K     |███████████████████████▌        | 1.7MB 22.6MB/s eta 0:00:01\r\u001b[K     |███████████████████████▊        | 1.7MB 22.6MB/s eta 0:00:01\r\u001b[K     |███████████████████████▉        | 1.7MB 22.6MB/s eta 0:00:01\r\u001b[K     |████████████████████████        | 1.7MB 22.6MB/s eta 0:00:01\r\u001b[K     |████████████████████████▏       | 1.7MB 22.6MB/s eta 0:00:01\r\u001b[K     |████████████████████████▎       | 1.7MB 22.6MB/s eta 0:00:01\r\u001b[K     |████████████████████████▍       | 1.7MB 22.6MB/s eta 0:00:01\r\u001b[K     |████████████████████████▋       | 1.7MB 22.6MB/s eta 0:00:01\r\u001b[K     |████████████████████████▊       | 1.7MB 22.6MB/s eta 0:00:01\r\u001b[K     |████████████████████████▉       | 1.8MB 22.6MB/s eta 0:00:01\r\u001b[K     |█████████████████████████       | 1.8MB 22.6MB/s eta 0:00:01\r\u001b[K     |█████████████████████████▏      | 1.8MB 22.6MB/s eta 0:00:01\r\u001b[K     |█████████████████████████▎      | 1.8MB 22.6MB/s eta 0:00:01\r\u001b[K     |█████████████████████████▍      | 1.8MB 22.6MB/s eta 0:00:01\r\u001b[K     |█████████████████████████▋      | 1.8MB 22.6MB/s eta 0:00:01\r\u001b[K     |█████████████████████████▊      | 1.8MB 22.6MB/s eta 0:00:01\r\u001b[K     |█████████████████████████▉      | 1.8MB 22.6MB/s eta 0:00:01\r\u001b[K     |██████████████████████████      | 1.8MB 22.6MB/s eta 0:00:01\r\u001b[K     |██████████████████████████▏     | 1.8MB 22.6MB/s eta 0:00:01\r\u001b[K     |██████████████████████████▎     | 1.9MB 22.6MB/s eta 0:00:01\r\u001b[K     |██████████████████████████▌     | 1.9MB 22.6MB/s eta 0:00:01\r\u001b[K     |██████████████████████████▋     | 1.9MB 22.6MB/s eta 0:00:01\r\u001b[K     |██████████████████████████▊     | 1.9MB 22.6MB/s eta 0:00:01\r\u001b[K     |██████████████████████████▉     | 1.9MB 22.6MB/s eta 0:00:01\r\u001b[K     |███████████████████████████     | 1.9MB 22.6MB/s eta 0:00:01\r\u001b[K     |███████████████████████████▏    | 1.9MB 22.6MB/s eta 0:00:01\r\u001b[K     |███████████████████████████▎    | 1.9MB 22.6MB/s eta 0:00:01\r\u001b[K     |███████████████████████████▌    | 1.9MB 22.6MB/s eta 0:00:01\r\u001b[K     |███████████████████████████▋    | 1.9MB 22.6MB/s eta 0:00:01\r\u001b[K     |███████████████████████████▊    | 2.0MB 22.6MB/s eta 0:00:01\r\u001b[K     |████████████████████████████    | 2.0MB 22.6MB/s eta 0:00:01\r\u001b[K     |████████████████████████████    | 2.0MB 22.6MB/s eta 0:00:01\r\u001b[K     |████████████████████████████▏   | 2.0MB 22.6MB/s eta 0:00:01\r\u001b[K     |████████████████████████████▍   | 2.0MB 22.6MB/s eta 0:00:01\r\u001b[K     |████████████████████████████▌   | 2.0MB 22.6MB/s eta 0:00:01\r\u001b[K     |████████████████████████████▋   | 2.0MB 22.6MB/s eta 0:00:01\r\u001b[K     |████████████████████████████▊   | 2.0MB 22.6MB/s eta 0:00:01\r\u001b[K     |█████████████████████████████   | 2.0MB 22.6MB/s eta 0:00:01\r\u001b[K     |█████████████████████████████   | 2.0MB 22.6MB/s eta 0:00:01\r\u001b[K     |█████████████████████████████▏  | 2.1MB 22.6MB/s eta 0:00:01\r\u001b[K     |█████████████████████████████▍  | 2.1MB 22.6MB/s eta 0:00:01\r\u001b[K     |█████████████████████████████▌  | 2.1MB 22.6MB/s eta 0:00:01\r\u001b[K     |█████████████████████████████▋  | 2.1MB 22.6MB/s eta 0:00:01\r\u001b[K     |█████████████████████████████▉  | 2.1MB 22.6MB/s eta 0:00:01\r\u001b[K     |██████████████████████████████  | 2.1MB 22.6MB/s eta 0:00:01\r\u001b[K     |██████████████████████████████  | 2.1MB 22.6MB/s eta 0:00:01\r\u001b[K     |██████████████████████████████▎ | 2.1MB 22.6MB/s eta 0:00:01\r\u001b[K     |██████████████████████████████▍ | 2.1MB 22.6MB/s eta 0:00:01\r\u001b[K     |██████████████████████████████▌ | 2.2MB 22.6MB/s eta 0:00:01\r\u001b[K     |██████████████████████████████▋ | 2.2MB 22.6MB/s eta 0:00:01\r\u001b[K     |██████████████████████████████▉ | 2.2MB 22.6MB/s eta 0:00:01\r\u001b[K     |███████████████████████████████ | 2.2MB 22.6MB/s eta 0:00:01\r\u001b[K     |███████████████████████████████ | 2.2MB 22.6MB/s eta 0:00:01\r\u001b[K     |███████████████████████████████▎| 2.2MB 22.6MB/s eta 0:00:01\r\u001b[K     |███████████████████████████████▍| 2.2MB 22.6MB/s eta 0:00:01\r\u001b[K     |███████████████████████████████▌| 2.2MB 22.6MB/s eta 0:00:01\r\u001b[K     |███████████████████████████████▊| 2.2MB 22.6MB/s eta 0:00:01\r\u001b[K     |███████████████████████████████▉| 2.2MB 22.6MB/s eta 0:00:01\r\u001b[K     |████████████████████████████████| 2.3MB 22.6MB/s eta 0:00:01\r\u001b[K     |████████████████████████████████| 2.3MB 22.6MB/s \n",
            "\u001b[?25hRequirement already satisfied: pillow in /usr/local/lib/python3.6/dist-packages (from scikit-video) (6.2.2)\n",
            "Requirement already satisfied: numpy in /usr/local/lib/python3.6/dist-packages (from scikit-video) (1.17.5)\n",
            "Requirement already satisfied: scipy in /usr/local/lib/python3.6/dist-packages (from scikit-video) (1.4.1)\n",
            "Installing collected packages: scikit-video\n",
            "Successfully installed scikit-video-1.1.11\n"
          ],
          "name": "stdout"
        }
      ]
    },
    {
      "cell_type": "code",
      "metadata": {
        "colab_type": "code",
        "id": "WUxvfXihVHYv",
        "colab": {}
      },
      "source": [
        "import keras\n",
        "import numpy as np\n",
        "import io\n",
        "import base64\n",
        "from IPython.display import HTML\n",
        "import skvideo.io\n",
        "import cv2\n",
        "import json\n",
        "\n",
        "import matplotlib.pyplot as plt\n",
        "from keras.models import Sequential,model_from_json\n",
        "from keras.layers.core import Dense\n",
        "from keras.optimizers import sgd, adam\n",
        "from keras.layers import Conv2D, MaxPooling2D, Activation, AveragePooling2D,Reshape,BatchNormalization"
      ],
      "execution_count": 0,
      "outputs": []
    },
    {
      "cell_type": "markdown",
      "metadata": {
        "colab_type": "text",
        "id": "j-KxiwLNVHZJ"
      },
      "source": [
        "# MiniProject on Deep Reinforcement Learning"
      ]
    },
    {
      "cell_type": "markdown",
      "metadata": {
        "colab_type": "text",
        "id": "gD7-r0HaVHZN"
      },
      "source": [
        "__Notations__: $E_p$ is the expectation under probability $p$. Please justify each of your answer and widely comment your code."
      ]
    },
    {
      "cell_type": "markdown",
      "metadata": {
        "colab_type": "text",
        "id": "5Ulrg60CVHZQ"
      },
      "source": [
        "# Context"
      ]
    },
    {
      "cell_type": "markdown",
      "metadata": {
        "colab_type": "text",
        "id": "YwNIhvn-VHZV"
      },
      "source": [
        "In a reinforcement learning algorithm, we modelize each step $t$ as an action $a_t$ obtained from a state $s_t$, i.e. $\\{(a_{t},s_{t})_{t\\leq T}\\}$ having the Markov property. We consider a discount factor $\\gamma \\in [0,1]$ that ensures convergence. The goal is to find among all the policies $\\pi$, one that maximizes the expected reward:\n",
        "\n",
        "\\begin{equation*}\n",
        "R(\\pi)=\\sum_{t\\leq T}E_{p^{\\pi}}[\\gamma^t r(s_{t},a_{t})] \\> ,\n",
        "\\end{equation*}\n",
        "\n",
        "where: \n",
        "\\begin{equation*}p^{\\pi}(a_{0},a_{1},s_{1},...,a_{T},s_{T})=p(a_{0})\\prod_{t=1}^{T}\\pi(a_{t}|s_{t})p(s_{t+1}|s_{t},a_{t}) \\> .\n",
        "\\end{equation*}\n",
        "\n",
        "We note the $Q$-function:\n",
        "\n",
        "\\begin{equation*}Q^\\pi(s,a)=E_{p^{\\pi}}[\\sum_{t\\leq T}\\gamma^{t}r(s_{t},a_{t})|s_{0}=s,a_{0}=a] \\> .\n",
        "\\end{equation*}\n",
        "\n",
        "Thus, the optimal Q function is:\n",
        "\\begin{equation*}\n",
        "Q^*(s,a)=\\max_{\\pi}Q^\\pi(s,a) \\> .\n",
        "\\end{equation*}\n",
        "\n",
        "In this project, we will apply the deep reinforcement learning techniques to a simple game: an agent will have to learn from scratch a policy that will permit it maximizing a reward."
      ]
    },
    {
      "cell_type": "markdown",
      "metadata": {
        "colab_type": "text",
        "id": "_o2Y6RR2VHZa"
      },
      "source": [
        "## The environment, the agent and the game"
      ]
    },
    {
      "cell_type": "markdown",
      "metadata": {
        "colab_type": "text",
        "id": "zphV7NBVVHZd"
      },
      "source": [
        "### The environment"
      ]
    },
    {
      "cell_type": "markdown",
      "metadata": {
        "colab_type": "text",
        "id": "IGFov8HXVHZj"
      },
      "source": [
        "```Environment``` is an abstract class that represents the states, rewards, and actions to obtain the new state."
      ]
    },
    {
      "cell_type": "code",
      "metadata": {
        "colab_type": "code",
        "id": "yjCbIBATVHZo",
        "colab": {}
      },
      "source": [
        "class Environment(object):\n",
        "    def __init__(self):\n",
        "        pass\n",
        "\n",
        "    def act(self, act):\n",
        "        \"\"\"\n",
        "        One can act on the environment and obtain its reaction:\n",
        "        - the new state\n",
        "        - the reward of the new state\n",
        "        - should we continue the game?\n",
        "\n",
        "        :return: state, reward, game_over\n",
        "        \"\"\"\n",
        "        pass\n",
        "\n",
        "\n",
        "    def reset(self):\n",
        "        \"\"\"\n",
        "        Reinitialize the environment to a random state and returns\n",
        "        the original state\n",
        "\n",
        "        :return: state\n",
        "        \"\"\"\n",
        "        pass\n",
        "    \n",
        "    def draw(self):\n",
        "        \"\"\"\n",
        "        Visualize in the console or graphically the current state\n",
        "        \"\"\"\n",
        "        pass"
      ],
      "execution_count": 0,
      "outputs": []
    },
    {
      "cell_type": "markdown",
      "metadata": {
        "colab_type": "text",
        "id": "4MyM5BwhVHZ2"
      },
      "source": [
        "The method ```act``` allows to act on the environment at a given state $s_t$ (stored internally), via action $a_t$. The method will return the new state $s_{t+1}$, the reward $r(s_{t},a_{t})$ and determines if $t\\leq T$ (*game_over*).\n",
        "\n",
        "The method ```reset``` simply reinitializes the environment to a random state $s_0$.\n",
        "\n",
        "The method ```draw``` displays the current state $s_t$ (this is useful to check the behavior of the Agent).\n",
        "\n",
        "We modelize $s_t$ as a tensor, while $a_t$ is an integer."
      ]
    },
    {
      "cell_type": "markdown",
      "metadata": {
        "colab_type": "text",
        "id": "MRg4KagqVHZ9"
      },
      "source": [
        "### The Agent"
      ]
    },
    {
      "cell_type": "markdown",
      "metadata": {
        "colab_type": "text",
        "id": "NdMBNZNEVHaB"
      },
      "source": [
        "The goal of the ```Agent``` is to interact with the ```Environment``` by proposing actions $a_t$ obtained from a given state $s_t$ to attempt to maximize its __reward__ $r(s_t,a_t)$. We propose the following abstract class:"
      ]
    },
    {
      "cell_type": "code",
      "metadata": {
        "colab_type": "code",
        "id": "GQV9B7BPVHaF",
        "colab": {}
      },
      "source": [
        "class Agent(object):\n",
        "    def __init__(self, epsilon=0.1, n_action=4):\n",
        "        self.epsilon = epsilon\n",
        "        self.n_action = n_action\n",
        "    \n",
        "    def set_epsilon(self,e):\n",
        "        self.epsilon = e\n",
        "\n",
        "    def act(self,s,train=True):\n",
        "        \"\"\" This function should return the next action to do:\n",
        "        an integer between 0 and 4 (not included) with a random exploration of epsilon\"\"\"\n",
        "        if train:\n",
        "            if np.random.rand() <= self.epsilon:\n",
        "                a = np.random.randint(0, self.n_action, size=1)[0]\n",
        "            else:\n",
        "                a = self.learned_act(s)\n",
        "        else: # in some cases, this can improve the performance.. remove it if poor performances\n",
        "            a = self.learned_act(s)\n",
        "\n",
        "        return a\n",
        "\n",
        "    def learned_act(self,s):\n",
        "        \"\"\" Act via the policy of the agent, from a given state s\n",
        "        it proposes an action a\"\"\"\n",
        "        pass\n",
        "\n",
        "    def reinforce(self, s, n_s, a, r, game_over_):\n",
        "        \"\"\" This function is the core of the learning algorithm. \n",
        "        It takes as an input the current state s_, the next state n_s_\n",
        "        the action a_ used to move from s_ to n_s_ and the reward r_.\n",
        "        \n",
        "        Its goal is to learn a policy.\n",
        "        \"\"\"\n",
        "        pass\n",
        "\n",
        "    def save(self):\n",
        "        \"\"\" This function returns basic stats if applicable: the\n",
        "        loss and/or the model\"\"\"\n",
        "        pass\n",
        "\n",
        "    def load(self):\n",
        "        \"\"\" This function allows to restore a model\"\"\"\n",
        "        pass"
      ],
      "execution_count": 0,
      "outputs": []
    },
    {
      "cell_type": "markdown",
      "metadata": {
        "colab_type": "text",
        "id": "BzYjIFDvVHaO"
      },
      "source": [
        "***\n",
        "__Question 1__:\n",
        "Explain the function act. Why is ```epsilon``` essential?"
      ]
    },
    {
      "cell_type": "markdown",
      "metadata": {
        "colab_type": "text",
        "id": "8_urnrSWVHaR"
      },
      "source": [
        "The function act is used to return the next action to do. We have to distinguish two different cases : \n",
        "* if the agent is training : at random we decide if we take a random decision ($ p= \\epsilon $) or if we want to apply the current learned policy ($ p= 1 - \\epsilon $). \n",
        "* if the agent is not training: we directly apply the learned policy\n",
        "\n",
        "The ```epsilon``` parameter is used to fix the probability $\\epsilon$ of taking a random decision instead of applying the learned policy. The higher the ``` epsilon``` is, the more the agent is prone to exploration. The optimisation problem being non-convex, it is important to explore new strategy by taking a first step in a direction that is not locally optimal otherwise the learning will converge to a local optimum. Reducing the value of ```epsilon```  increases the exploitation of previous knowledge, making the training more likely to converge. Therefore, setting the ```epsilon``` parameter requires to find the good trade off between the quality of the solution learned and the stability of the training. "
      ]
    },
    {
      "cell_type": "markdown",
      "metadata": {
        "colab_type": "text",
        "id": "Sc8uEOMCVHaV"
      },
      "source": [
        "***\n",
        "### The Game"
      ]
    },
    {
      "cell_type": "markdown",
      "metadata": {
        "colab_type": "text",
        "id": "e-haSqNjVHaZ"
      },
      "source": [
        "The ```Agent``` and the ```Environment``` work in an interlaced way as in the following (take some time to understand this code as it is the core of the project)\n",
        "\n",
        "```python\n",
        "\n",
        "epoch = 300\n",
        "env = Environment()\n",
        "agent = Agent()\n",
        "\n",
        "\n",
        "# Number of won games\n",
        "score = 0\n",
        "loss = 0\n",
        "\n",
        "\n",
        "for e in range(epoch):\n",
        "    # At each epoch, we restart to a fresh game and get the initial state\n",
        "    state = env.reset()\n",
        "    # This assumes that the games will end\n",
        "    game_over = False\n",
        "\n",
        "    win = 0\n",
        "    lose = 0\n",
        "    \n",
        "    while not game_over:\n",
        "        # The agent performs an action\n",
        "        action = agent.act(state)\n",
        "\n",
        "        # Apply an action to the environment, get the next state, the reward\n",
        "        # and if the games end\n",
        "        prev_state = state\n",
        "        state, reward, game_over = env.act(action)\n",
        "\n",
        "        # Update the counters\n",
        "        if reward > 0:\n",
        "            win = win + reward\n",
        "        if reward < 0:\n",
        "            lose = lose -reward\n",
        "\n",
        "        # Apply the reinforcement strategy\n",
        "        loss = agent.reinforce(prev_state, state,  action, reward, game_over)\n",
        "\n",
        "    # Save as a mp4\n",
        "    if e % 10 == 0:\n",
        "        env.draw(e)\n",
        "\n",
        "    # Update stats\n",
        "    score += win-lose\n",
        "\n",
        "    print(\"Epoch {:03d}/{:03d} | Loss {:.4f} | Win/lose count {}/{} ({})\"\n",
        "          .format(e, epoch, loss, win, lose, win-lose))\n",
        "    agent.save()\n",
        "```"
      ]
    },
    {
      "cell_type": "markdown",
      "metadata": {
        "colab_type": "text",
        "id": "EkDUWRz5VHad"
      },
      "source": [
        "# The game, *eat cheese*"
      ]
    },
    {
      "cell_type": "markdown",
      "metadata": {
        "colab_type": "text",
        "id": "8Sqh3tLEVHar"
      },
      "source": [
        "A rat runs on an island and tries to eat as much as possible. The island is subdivided into $N\\times N$ cells, in which there are cheese (+0.5) and poisonous cells (-1). The rat has a visibility of 2 cells (thus it can see $5^2$ cells). The rat is given a time $T$ to accumulate as much food as possible. It can perform 4 actions: going up, down, left, right. \n",
        "\n",
        "The goal is to code an agent to solve this task that will learn by trial and error. We propose the following environment:"
      ]
    },
    {
      "cell_type": "code",
      "metadata": {
        "colab_type": "code",
        "id": "-X3xueZsVHat",
        "colab": {}
      },
      "source": [
        "class Environment(object):\n",
        "    def __init__(self, grid_size=10, max_time=500, temperature=0.1):\n",
        "        grid_size = grid_size+4\n",
        "        self.grid_size = grid_size\n",
        "        self.max_time = max_time\n",
        "        self.temperature = temperature\n",
        "\n",
        "        #board on which one plays\n",
        "        self.board = np.zeros((grid_size,grid_size))\n",
        "        self.position = np.zeros((grid_size,grid_size))\n",
        "\n",
        "        # coordinate of the cat\n",
        "        self.x = 0\n",
        "        self.y = 1\n",
        "\n",
        "        # self time\n",
        "        self.t = 0\n",
        "\n",
        "        self.scale=16\n",
        "\n",
        "        self.to_draw = np.zeros((max_time+2, grid_size*self.scale, grid_size*self.scale, 3))\n",
        "\n",
        "\n",
        "    def draw(self,e):\n",
        "        skvideo.io.vwrite(str(e) + '.mp4', self.to_draw)\n",
        "\n",
        "    def get_frame(self,t):\n",
        "        b = np.zeros((self.grid_size,self.grid_size,3))+128\n",
        "        b[self.board>0,0] = 256\n",
        "        b[self.board < 0, 2] = 256\n",
        "        b[self.x,self.y,:]=256\n",
        "        b[-2:,:,:]=0\n",
        "        b[:,-2:,:]=0\n",
        "        b[:2,:,:]=0\n",
        "        b[:,:2,:]=0\n",
        "        \n",
        "        b =  cv2.resize(b, None, fx=self.scale, fy=self.scale, interpolation=cv2.INTER_NEAREST)\n",
        "\n",
        "        self.to_draw[t,:,:,:]=b\n",
        "\n",
        "\n",
        "    def act(self, action):\n",
        "        \"\"\"This function returns the new state, reward and decides if the\n",
        "        game ends.\"\"\"\n",
        "\n",
        "        self.get_frame(int(self.t))\n",
        "\n",
        "        self.position = np.zeros((self.grid_size, self.grid_size))\n",
        "\n",
        "        self.position[0:2,:]= -1\n",
        "        self.position[:,0:2] = -1\n",
        "        self.position[-2:, :] = -1\n",
        "        self.position[-2:, :] = -1\n",
        "\n",
        "        self.position[self.x, self.y] = 1\n",
        "        if action == 0:\n",
        "            if self.x == self.grid_size-3:\n",
        "                self.x = self.x-1\n",
        "            else:\n",
        "                self.x = self.x + 1\n",
        "        elif action == 1:\n",
        "            if self.x == 2:\n",
        "                self.x = self.x+1\n",
        "            else:\n",
        "                self.x = self.x-1\n",
        "        elif action == 2:\n",
        "            if self.y == self.grid_size - 3:\n",
        "                self.y = self.y - 1\n",
        "            else:\n",
        "                self.y = self.y + 1\n",
        "        elif action == 3:\n",
        "            if self.y == 2:\n",
        "                self.y = self.y + 1\n",
        "            else:\n",
        "                self.y = self.y - 1\n",
        "        else:\n",
        "            RuntimeError('Error: action not recognized')\n",
        "\n",
        "        self.t = self.t + 1\n",
        "        reward = self.board[self.x, self.y]\n",
        "        self.board[self.x, self.y] = 0\n",
        "        game_over = self.t > self.max_time\n",
        "        state = np.concatenate((self.board.reshape(self.grid_size, self.grid_size,1),\n",
        "                        self.position.reshape(self.grid_size, self.grid_size,1)),axis=2)\n",
        "        state = state[self.x-2:self.x+3,self.y-2:self.y+3,:]\n",
        "\n",
        "        return state, reward, game_over\n",
        "\n",
        "    def reset(self):\n",
        "        \"\"\"This function resets the game and returns the initial state\"\"\"\n",
        "\n",
        "        self.x = np.random.randint(3, self.grid_size-3, size=1)[0]\n",
        "        self.y = np.random.randint(3, self.grid_size-3, size=1)[0]\n",
        "\n",
        "\n",
        "        bonus = 0.5*np.random.binomial(1,self.temperature,size=self.grid_size**2)\n",
        "        bonus = bonus.reshape(self.grid_size,self.grid_size)\n",
        "\n",
        "        malus = -1.0*np.random.binomial(1,self.temperature,size=self.grid_size**2)\n",
        "        malus = malus.reshape(self.grid_size, self.grid_size)\n",
        "\n",
        "        self.to_draw = np.zeros((self.max_time+2, self.grid_size*self.scale, self.grid_size*self.scale, 3))\n",
        "\n",
        "\n",
        "        malus[bonus>0]=0\n",
        "\n",
        "        self.board = bonus + malus\n",
        "\n",
        "        self.position = np.zeros((self.grid_size, self.grid_size))\n",
        "        self.position[0:2,:]= -1\n",
        "        self.position[:,0:2] = -1\n",
        "        self.position[-2:, :] = -1\n",
        "        self.position[-2:, :] = -1\n",
        "        self.board[self.x,self.y] = 0\n",
        "        self.t = 0\n",
        "\n",
        "        state = np.concatenate((\n",
        "                               self.board.reshape(self.grid_size, self.grid_size,1),\n",
        "                        self.position.reshape(self.grid_size, self.grid_size,1)),axis=2)\n",
        "\n",
        "        state = state[self.x - 2:self.x + 3, self.y - 2:self.y + 3, :]\n",
        "        return state"
      ],
      "execution_count": 0,
      "outputs": []
    },
    {
      "cell_type": "markdown",
      "metadata": {
        "colab_type": "text",
        "id": "9Gahq4lkVHa2"
      },
      "source": [
        "The following elements are important because they correspond to the hyper parameters for this project:"
      ]
    },
    {
      "cell_type": "code",
      "metadata": {
        "colab_type": "code",
        "id": "7rQI46imVHa4",
        "colab": {}
      },
      "source": [
        "# parameters\n",
        "size = 13\n",
        "T=200\n",
        "temperature=0.3\n",
        "epochs_train=25 # set small when debugging\n",
        "epochs_test=15 # set small when debugging\n",
        "\n",
        "# display videos\n",
        "def display_videos(name):\n",
        "    video = io.open(name, 'r+b').read()\n",
        "    encoded = base64.b64encode(video)\n",
        "    return '''<video alt=\"test\" controls>\n",
        "                <source src=\"data:video/mp4;base64,{0}\" type=\"video/mp4\" />\n",
        "             </video>'''.format(encoded.decode('ascii'))"
      ],
      "execution_count": 0,
      "outputs": []
    },
    {
      "cell_type": "markdown",
      "metadata": {
        "colab_type": "text",
        "id": "ryJYVjSMVHbB"
      },
      "source": [
        "__Question 2__ Explain the use of the arrays ```position``` and ```board```."
      ]
    },
    {
      "cell_type": "markdown",
      "metadata": {
        "colab_type": "text",
        "id": "hxCU379jVHbF"
      },
      "source": [
        "The arrays ```position```  and ```board``` are both array of the size of the grid. \n",
        "\n",
        "* The ```position``` array stores the position of the rat which is the only element with a ```1```, others are ```0``` (or ```-1``` on the edges).  \n",
        "* The ```board``` array is used to store the information about the cells of the game : a poisonous cell has a value of -1 and a cheesy cell has a value of 0.5. Once the rat has been on a cell, the  value is changed to 0 (the content of the cell has been eatend by the rat). \n",
        "\n",
        "Both arrays are used as their concatenation is the state of the game. "
      ]
    },
    {
      "cell_type": "markdown",
      "metadata": {
        "colab_type": "text",
        "id": "tXdQ036RVHbH"
      },
      "source": [
        "## Random Agent"
      ]
    },
    {
      "cell_type": "markdown",
      "metadata": {
        "colab_type": "text",
        "id": "v-Q1QfMCVHbM"
      },
      "source": [
        "***\n",
        "__Question 3__ Implement a random Agent (only ```learned_act``` needs to be implemented):"
      ]
    },
    {
      "cell_type": "code",
      "metadata": {
        "colab_type": "code",
        "id": "xfBSigDXVHbN",
        "colab": {}
      },
      "source": [
        "class RandomAgent(Agent):\n",
        "    def __init__(self):\n",
        "        super(RandomAgent, self).__init__()\n",
        "        pass\n",
        "\n",
        "    def learned_act(self, s):\n",
        "        return np.random.randint(0, self.n_action)"
      ],
      "execution_count": 0,
      "outputs": []
    },
    {
      "cell_type": "markdown",
      "metadata": {
        "colab_type": "text",
        "id": "RUD4ZQPgVHbX"
      },
      "source": [
        "***\n",
        "***\n",
        "__Question 4__ Visualize the game moves. You need to fill in the following function for the evaluation:"
      ]
    },
    {
      "cell_type": "code",
      "metadata": {
        "colab_type": "code",
        "id": "StEsjpqsVHbZ",
        "colab": {}
      },
      "source": [
        "def test(agent,env,epochs,prefix='', verbose=2):\n",
        "    # Number of won games\n",
        "    score = 0\n",
        "\n",
        "    for e in range(epochs):\n",
        "\n",
        "        state = env.reset()\n",
        "        game_over = False\n",
        "        win = 0\n",
        "        lose = 0\n",
        "        while not game_over:\n",
        "          # The agent performs an action\n",
        "          action = agent.act(state)\n",
        "\n",
        "          # Apply an action to the environment, get the next state, the reward\n",
        "          # and if the games end\n",
        "          prev_state = state\n",
        "          state, reward, game_over = env.act(action)\n",
        "\n",
        "          # Update the counters\n",
        "          if reward > 0:\n",
        "              win = win + reward\n",
        "          if reward < 0:\n",
        "              lose = lose -reward\n",
        "        # Save as a mp4\n",
        "        env.draw(prefix+str(e))\n",
        "\n",
        "        # Update stats\n",
        "        score = score + win-lose\n",
        "        if verbose > 1 : \n",
        "             print(\"Win/lose count {}/{}. Average score ({})\"\n",
        "                   .format(win, lose, score/(1+e)))\n",
        "    if verbose > 0 : print('Final score: '+str(score/epochs))\n",
        "    return(score)"
      ],
      "execution_count": 0,
      "outputs": []
    },
    {
      "cell_type": "code",
      "metadata": {
        "colab_type": "code",
        "id": "qPhUUalqVHbh",
        "outputId": "b38f2ec1-126f-473c-a0fa-68c3aa0f29a3",
        "colab": {
          "base_uri": "https://localhost:8080/",
          "height": 565
        }
      },
      "source": [
        "# Initialize the game\n",
        "env = Environment(grid_size=size, max_time=T,temperature=temperature)\n",
        "\n",
        "# Initialize the agent!\n",
        "agent = RandomAgent()\n",
        "\n",
        "test(agent,env,epochs_test,prefix='random')\n",
        "HTML(display_videos('random0.mp4'))"
      ],
      "execution_count": 0,
      "outputs": [
        {
          "output_type": "stream",
          "text": [
            "Win/lose count 12.0/17.0. Average score (-5.0)\n",
            "Win/lose count 8.5/16.0. Average score (-6.25)\n",
            "Win/lose count 8.5/12.0. Average score (-5.333333333333333)\n",
            "Win/lose count 6.0/13.0. Average score (-5.75)\n",
            "Win/lose count 12.0/10.0. Average score (-4.2)\n",
            "Win/lose count 12.5/23.0. Average score (-5.25)\n",
            "Win/lose count 5.5/19.0. Average score (-6.428571428571429)\n",
            "Win/lose count 11.0/18.0. Average score (-6.5)\n",
            "Win/lose count 8.0/13.0. Average score (-6.333333333333333)\n",
            "Win/lose count 11.0/15.0. Average score (-6.1)\n",
            "Win/lose count 8.5/8.0. Average score (-5.5)\n",
            "Win/lose count 12.5/10.0. Average score (-4.833333333333333)\n",
            "Win/lose count 13.5/16.0. Average score (-4.653846153846154)\n",
            "Win/lose count 9.5/14.0. Average score (-4.642857142857143)\n",
            "Win/lose count 10.0/14.0. Average score (-4.6)\n",
            "Final score: -4.6\n"
          ],
          "name": "stdout"
        },
        {
          "output_type": "execute_result",
          "data": {
            "text/html": [
              "<video alt=\"test\" controls>\n",
              "                <source src=\"data:video/mp4;base64,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\" type=\"video/mp4\" />\n",
              "             </video>"
            ],
            "text/plain": [
              "<IPython.core.display.HTML object>"
            ]
          },
          "metadata": {
            "tags": []
          },
          "execution_count": 8
        }
      ]
    },
    {
      "cell_type": "markdown",
      "metadata": {
        "colab_type": "text",
        "id": "nEQpvV-eVHbq"
      },
      "source": [
        "***\n",
        "## DQN"
      ]
    },
    {
      "cell_type": "markdown",
      "metadata": {
        "colab_type": "text",
        "id": "b--4IpptVHbr"
      },
      "source": [
        "Let us assume here that $T=\\infty$.\n",
        "\n",
        "***\n",
        "__Question 5__ Let $\\pi$ be a policy, show that:\n",
        "\n",
        "\\begin{equation*}\n",
        "Q^{\\pi}(s,a)=E_{(s',a')\\sim p(.|s,a)}[r(s,a)+\\gamma Q^{\\pi}(s',a')]\n",
        "\\end{equation*}\n",
        "\n",
        "Then, show that for the optimal policy $\\pi^*$ (we assume its existence), the following holds: \n",
        "\n",
        "\\begin{equation*}\n",
        "Q^{*}(s,a)=E_{s'\\sim \\pi^*(.|s,a)}[r(s,a)+\\gamma\\max_{a'}Q^{*}(s',a')].\n",
        "\\end{equation*}\n",
        "Finally, deduce that a plausible objective is:\n",
        "\n",
        "\\begin{equation*}\n",
        "\\mathcal{L}(\\theta)=E_{s' \\sim \\pi^*(.|s,a)}\\Vert r+\\gamma\\max\\max_{a'}Q(s',a',\\theta)-Q(s,a,\\theta)\\Vert^{2}.\n",
        "\\end{equation*}\n",
        "\n",
        "\n"
      ]
    },
    {
      "cell_type": "markdown",
      "metadata": {
        "colab_type": "text",
        "id": "7JhZZRG4VHbw"
      },
      "source": [
        "1. The definition of $ Q^{\\pi}(s, a) $ gives us  : \n",
        "$$ Q^{\\pi}(s, a) = E_{p^{\\pi}} \\left[ \\sum_{t \\leq T} \\gamma^t r(s_t, a_t) | s_0=s, a_0=a \\right] $$\n",
        "Separating the term of index $0$ form the sum, we have by linearity of the expectation :\n",
        "$$ Q^{\\pi}(s, a) = E_{p^{\\pi}} \\left[ r(s_0, a_0) | s_0=s, a_0=a \\right] + E_{p^{\\pi}} \\left[ \\sum_{1 < t \\leq T} \\gamma^t r(s_t, a_t) | s_0=s, a_0=a \\right] $$\n",
        "Since, $$ E_{p^{\\pi}} \\left[ r(s_0, a_0) | s_0=s, a_0=a \\right] = r(s,a)$$ \n",
        "it follows that : \n",
        "$$ Q^{\\pi}(s, a) = r(s, a) + E_{p^{\\pi}} \\left[ \\gamma  \\sum_{1 < t \\leq T} \\gamma^{t-1} r(s_t, a_t) | s_0=s, a_0=a \\right]$$\n",
        "We have : \n",
        "$$ E_{p^{\\pi}} \\left[\\sum_{1 < t \\leq T} \\gamma^{t-1} r(s_t, a_t) | s_0=s, a_0=a \\right] = E_{p^{\\pi}} \\left[ E_{p^{\\pi}} \\left[ \\sum_{1 \\leq t \\leq T} \\gamma^{t-1} r(s_t, a_t) | s_1=s', a_1=a' \\right] | s_0=s, a_0=a \\right]$$ \n",
        "Thus,\n",
        "$$ E_{p^{\\pi}} \\left[\\sum_{1 < t \\leq T} \\gamma^{t-1} r(s_t, a_t) | s_0=s, a_0=a \\right]  = E_{(s', a') \\sim p^{\\pi}(\\cdot|s,a)} \\left[ E_{p^{\\pi}} \\left[ \\sum_{0 \\leq t \\leq T-1} \\gamma^{t} r(s_t, a_t) | s_0=s', a_0=a' \\right] \\right] $$\n",
        "which gives, \n",
        "$$ Q^{\\pi}(s, a) = r(s, a) + \\gamma E_{(s', a') \\sim p^{\\pi}(\\cdot|s,a)} \\left[ E_{p^{\\pi}} \\left[ \\sum_{0 \\leq t \\leq T-1} \\gamma^{t} r(s_t, a_t) | s_0=s', a_0=a' \\right] \\right]$$\n",
        "It follows directly:\n",
        "$$Q^{\\pi}(s, a) = E_{(s', a') \\sim p^{\\pi}(\\cdot|s,a)} \\left[ r(s, a) + \\gamma Q^{\\pi}(s', a') \\right]$$\n",
        "\n",
        "2. From the previous point, we have : \n",
        "$$ Q^{*}(s,a) = \\max_{\\pi} E_{(s',a')\\sim p^{\\pi}(.|s,a)}[r(s,a)+\\gamma Q^{\\pi}(s',a')] $$ Let's consider $\\pi ^ *$, an optimal policy (we assume its existence). It follows: $$ Q^{*}(s,a) = E_{(s',a')\\sim p^{\\pi^ * }(.|s,a)}[r(s,a)+\\gamma Q^{\\pi ^ *}(s',a')] $$\n",
        "$\\pi^*$ being optimal for $a'$ the action taken following $\\pi^*$ $$ Q^{\\pi ^ *}(s',a') = \\max_{b}Q^*(s',b) $$ The policy being fixed (and deterministic) : \n",
        "$$ Q^{*}(s,a) = E_{s'\\sim p(.|s,a)}[r(s,a)+\\gamma \\max_{b}Q^*(s',b)] $$ \n",
        "\n",
        "\n",
        "3. The previous point can be written : $$  E_{s'\\sim p(.|s,a)}[r(s,a)+\\gamma \\max_{b}Q^*(s',b) - Q^{*}(s,a)] = 0 $$ We try to estimate $Q^*$ with $Q(.,.|\\theta)$ so the minimizing the given objective is equivalent to minimizing the norm of the estimate of the previous term. Therefore it is a plausible objective. \n"
      ]
    },
    {
      "cell_type": "markdown",
      "metadata": {
        "colab_type": "text",
        "id": "ZrmR05k0VHby"
      },
      "source": [
        "***\n",
        "The DQN-learning algorithm relies on these derivations to train the parameters $\\theta$ of a Deep Neural Network:\n",
        "\n",
        "1. At the state $s_t$, select the action $a_t$ with best reward using $Q_t$ and store the results;\n",
        "\n",
        "2. Obtain the new state $s_{t+1}$ from the environment $p$;\n",
        "\n",
        "3. Store $(s_t,a_t,s_{t+1})$;\n",
        "\n",
        "4. Obtain $Q_{t+1}$ by minimizing  $\\mathcal{L}$ from a recovered batch from the previously stored results.\n",
        "\n",
        "***\n",
        "__Question 6__ Implement the class ```Memory``` that stores moves (in a replay buffer) via ```remember``` and provides a ```random_access``` to these. Specify a maximum memory size to avoid side effects. You can for example use a ```list()``` and set by default ```max_memory=100```."
      ]
    },
    {
      "cell_type": "code",
      "metadata": {
        "colab_type": "code",
        "id": "A7WE8H0LVHb1",
        "colab": {}
      },
      "source": [
        "class Memory(object):\n",
        "    def __init__(self, max_memory=100):\n",
        "        self.max_memory = max_memory\n",
        "        self.memory = list()\n",
        "\n",
        "    def remember(self, m):\n",
        "        if len(self.memory) == self.max_memory:\n",
        "            self.memory = self.memory[1:]\n",
        "        self.memory.append(m)\n",
        "\n",
        "    def random_access(self):\n",
        "        index = np.random.randint(0, len(self.memory))\n",
        "        return self.memory[index]"
      ],
      "execution_count": 0,
      "outputs": []
    },
    {
      "cell_type": "markdown",
      "metadata": {
        "colab_type": "text",
        "id": "BlHiTCxNVHb7"
      },
      "source": [
        "***\n",
        "The pipeline we will use for training is given below:"
      ]
    },
    {
      "cell_type": "code",
      "metadata": {
        "colab_type": "code",
        "id": "FDf6uNY5VHb9",
        "colab": {}
      },
      "source": [
        "def train(agent,env,epoch,prefix='', verbose=1):\n",
        "    # Number of won games\n",
        "    score = 0\n",
        "    loss = 0\n",
        "\n",
        "    for e in range(epoch):\n",
        "        # At each epoch, we restart to a fresh game and get the initial state\n",
        "        state = env.reset()\n",
        "        # This assumes that the games will terminate\n",
        "        game_over = False\n",
        "\n",
        "        win = 0\n",
        "        lose = 0\n",
        "\n",
        "        while not game_over:\n",
        "            # The agent performs an action\n",
        "            action = agent.act(state)\n",
        "\n",
        "            # Apply an action to the environment, get the next state, the reward\n",
        "            # and if the games end\n",
        "            prev_state = state\n",
        "            state, reward, game_over = env.act(action)\n",
        "\n",
        "            # Update the counters\n",
        "            if reward > 0:\n",
        "                win = win + reward\n",
        "            if reward < 0:\n",
        "                lose = lose -reward\n",
        "\n",
        "            # Apply the reinforcement strategy\n",
        "            loss = agent.reinforce(prev_state, state,  action, reward, game_over)\n",
        "\n",
        "        # Save as a mp4\n",
        "        if e % 10 == 0:\n",
        "            env.draw(prefix+str(e))\n",
        "\n",
        "        # Update stats\n",
        "        score += win-lose\n",
        "        if verbose > 0:\n",
        "          print(\"Epoch {:03d}/{:03d} | Loss {:.4f} | Win/lose count {}/{} ({})\"\n",
        "                .format(e, epoch, loss, win, lose, win-lose))\n",
        "        agent.save(name_weights=prefix+'model.h5',name_model=prefix+'model.json')"
      ],
      "execution_count": 0,
      "outputs": []
    },
    {
      "cell_type": "markdown",
      "metadata": {
        "colab_type": "text",
        "id": "Enu4WroZVHcF"
      },
      "source": [
        "***\n",
        "__Question 7__ Implement the DQN training algorithm using a cascade of fully connected layers. You can use different learning rate, batch size or memory size parameters. In particular, the loss might oscillate while the player will start to win the games. You have to find a good criterium."
      ]
    },
    {
      "cell_type": "code",
      "metadata": {
        "colab_type": "code",
        "id": "RY15FQOSVHcJ",
        "colab": {}
      },
      "source": [
        "class DQN(Agent):\n",
        "    def __init__(self, grid_size,  epsilon = 0.1, memory_size=100, batch_size = 16,n_state=2):\n",
        "        super(DQN, self).__init__(epsilon = epsilon)\n",
        "\n",
        "        # Discount for Q learning\n",
        "        self.discount = 0.99\n",
        "        \n",
        "        self.grid_size = grid_size\n",
        "        \n",
        "        # number of state\n",
        "        self.n_state = n_state\n",
        "\n",
        "        # Memory\n",
        "        self.memory = Memory(memory_size)\n",
        "        \n",
        "        # Batch size when learning\n",
        "        self.batch_size = batch_size\n",
        "\n",
        "    def learned_act(self, s):\n",
        "        return np.argmax(self.model.predict(np.array([s]))[0])\n",
        "\n",
        "    def reinforce(self, s_, n_s_, a_, r_, game_over_):\n",
        "        # Two steps: first memorize the states, second learn from the pool\n",
        "\n",
        "        self.memory.remember([s_, n_s_, a_, r_, game_over_])\n",
        "        batch_size = min(len(self.memory.memory), self.batch_size)\n",
        "\n",
        "        minibatch = [self.memory.random_access() for i in range(self.batch_size)]\n",
        "\n",
        "        previous_states = np.array([values[0] for values in minibatch])\n",
        "        updated_previous_Qs = self.model.predict(previous_states)\n",
        "\n",
        "        states = np.array([values[1] for values in minibatch])\n",
        "        updated_Qs = self.model.predict(states)\n",
        "\n",
        "        target_q = np.zeros((self.batch_size, 4))\n",
        "\n",
        "        for i, (current_state, new_current_state, action, reward, game_over) in enumerate(minibatch):\n",
        "            if game_over:\n",
        "                y_j = reward\n",
        "            else:\n",
        "                y_j = reward + self.discount * np.max(updated_Qs[i])\n",
        "              \n",
        "            target_q[i] = updated_Qs[i]\n",
        "            target_q[i, action] = y_j\n",
        "\n",
        "        target_q = np.clip(target_q, -3, 3)\n",
        "        l = self.model.train_on_batch(previous_states, target_q)\n",
        "\n",
        "\n",
        "        return l\n",
        "\n",
        "    def save(self,name_weights='model.h5',name_model='model.json'):\n",
        "        self.model.save_weights(name_weights, overwrite=True)\n",
        "        with open(name_model, \"w\") as outfile:\n",
        "            json.dump(self.model.to_json(), outfile)\n",
        "            \n",
        "    def load(self,name_weights='model.h5',name_model='model.json'):\n",
        "        with open(name_model, \"r\") as jfile:\n",
        "            model = model_from_json(json.load(jfile))\n",
        "        model.load_weights(name_weights)\n",
        "        model.compile(\"sgd\", \"mse\")\n",
        "        self.model = model\n",
        "\n",
        "            \n",
        "class DQN_FC(DQN):\n",
        "    def __init__(self, *args, n_fc = 2, dense_cells = 20, lr=0.1,**kwargs):\n",
        "        super(DQN_FC, self).__init__( *args,**kwargs)\n",
        "        \n",
        "        # NN Model\n",
        "        ######\n",
        "        input_model = keras.layers.Input(shape=(5, 5, self.n_state), name=\"input\")\n",
        "        x = keras.layers.Flatten(name=\"flatten\")(input_model)\n",
        "\n",
        "        for i in range(n_fc):\n",
        "            x = Dense(dense_cells, name=\"fc{}\".format(i), activation=\"relu\")(x)\n",
        "        output_model = Dense(4, name=\"output\")(x)\n",
        "        model = keras.models.Model(input_model, output_model)\n",
        "        ########\n",
        "        model.compile(sgd(lr=lr, decay=1e-4, momentum=0.0), \"mse\")\n",
        "        self.model = model\n",
        "        "
      ],
      "execution_count": 0,
      "outputs": []
    },
    {
      "cell_type": "markdown",
      "metadata": {
        "id": "7dy2AIaZ_cfI",
        "colab_type": "text"
      },
      "source": [
        "### Testing the FC agent"
      ]
    },
    {
      "cell_type": "code",
      "metadata": {
        "colab_type": "code",
        "id": "u_138uczuto2",
        "outputId": "db2622c6-589d-44a0-de17-162f7346ca4a",
        "colab": {
          "base_uri": "https://localhost:8080/",
          "height": 769
        }
      },
      "source": [
        "epochs_train = 25\n",
        "epochs_test = 10\n",
        "lr = 0.1\n",
        "epsilon = 0.1\n",
        "memory_size = 2000\n",
        "batch_size = 32\n",
        "dense_cells = 10\n",
        "n_fc = 1\n",
        "\n",
        "env = Environment(grid_size=size, max_time=T, temperature=0.3)\n",
        "agent = DQN_FC(size, lr=lr, epsilon = epsilon, memory_size=memory_size, batch_size = batch_size)\n",
        "train(agent, env, epochs_train, prefix='fc_train')\n",
        "HTML(display_videos('fc_train10.mp4'))\n",
        "\n",
        "print('Test of the FC')\n",
        "scores = []\n",
        "for i in range(epochs_test):\n",
        "    scores.append(test(agent, env, 1, prefix='fc_test', verbose = 0))\n",
        "print('Average Score',  np.mean(scores))\n",
        "print('score standard deviation',  np.std(scores))\n",
        "\n",
        "HTML(display_videos('fc_test0.mp4'))"
      ],
      "execution_count": 53,
      "outputs": [
        {
          "output_type": "stream",
          "text": [
            "Epoch 000/025 | Loss 0.0245 | Win/lose count 3.0/3.0 (0.0)\n",
            "Epoch 001/025 | Loss 0.0265 | Win/lose count 5.0/3.0 (2.0)\n",
            "Epoch 002/025 | Loss 0.0203 | Win/lose count 2.5/3.0 (-0.5)\n",
            "Epoch 003/025 | Loss 0.0085 | Win/lose count 4.0/6.0 (-2.0)\n",
            "Epoch 004/025 | Loss 0.0219 | Win/lose count 3.5/6.0 (-2.5)\n",
            "Epoch 005/025 | Loss 0.0215 | Win/lose count 3.5/6.0 (-2.5)\n",
            "Epoch 006/025 | Loss 0.0157 | Win/lose count 6.5/8.0 (-1.5)\n",
            "Epoch 007/025 | Loss 0.0054 | Win/lose count 5.0/4.0 (1.0)\n",
            "Epoch 008/025 | Loss 0.0058 | Win/lose count 4.0/10.0 (-6.0)\n",
            "Epoch 009/025 | Loss 0.0126 | Win/lose count 5.5/6.0 (-0.5)\n",
            "Epoch 010/025 | Loss 0.0142 | Win/lose count 9.0/7.0 (2.0)\n",
            "Epoch 011/025 | Loss 0.0061 | Win/lose count 2.5/4.0 (-1.5)\n",
            "Epoch 012/025 | Loss 0.0180 | Win/lose count 2.5/3.0 (-0.5)\n",
            "Epoch 013/025 | Loss 0.0182 | Win/lose count 4.0/3.0 (1.0)\n",
            "Epoch 014/025 | Loss 0.0096 | Win/lose count 10.0/6.0 (4.0)\n",
            "Epoch 015/025 | Loss 0.0218 | Win/lose count 7.0/11.0 (-4.0)\n",
            "Epoch 016/025 | Loss 0.0229 | Win/lose count 4.5/2.0 (2.5)\n",
            "Epoch 017/025 | Loss 0.0115 | Win/lose count 7.0/10.0 (-3.0)\n",
            "Epoch 018/025 | Loss 0.0065 | Win/lose count 2.5/2.0 (0.5)\n",
            "Epoch 019/025 | Loss 0.0059 | Win/lose count 3.0/3.0 (0.0)\n",
            "Epoch 020/025 | Loss 0.0182 | Win/lose count 5.5/8.0 (-2.5)\n",
            "Epoch 021/025 | Loss 0.0209 | Win/lose count 3.0/3.0 (0.0)\n",
            "Epoch 022/025 | Loss 0.0027 | Win/lose count 5.0/5.0 (0.0)\n",
            "Epoch 023/025 | Loss 0.0171 | Win/lose count 5.5/3.0 (2.5)\n",
            "Epoch 024/025 | Loss 0.0086 | Win/lose count 12.5/9.0 (3.5)\n",
            "Test of the FC\n",
            "Average Score 0.95\n",
            "score standard deviation 2.2073740054644113\n"
          ],
          "name": "stdout"
        },
        {
          "output_type": "execute_result",
          "data": {
            "text/html": [
              "<video alt=\"test\" controls>\n",
              "                <source src=\"data:video/mp4;base64,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\" type=\"video/mp4\" />\n",
              "             </video>"
            ],
            "text/plain": [
              "<IPython.core.display.HTML object>"
            ]
          },
          "metadata": {
            "tags": []
          },
          "execution_count": 53
        }
      ]
    },
    {
      "cell_type": "markdown",
      "metadata": {
        "id": "ENuppigS_cfO",
        "colab_type": "text"
      },
      "source": [
        "### Finding a good set of hyperparameters for the FC agent\n",
        "\n",
        "Given the high variance of the results between the experiments with same hyperparameters, we won't spend too much time on the search of a good set of hyperparameters.  \n",
        "\n",
        "For this we will use a very basic random search and retiterate with a smaller set carefully chosen. "
      ]
    },
    {
      "cell_type": "code",
      "metadata": {
        "colab_type": "code",
        "id": "qWbwDjQJyt2B",
        "outputId": "40e76df4-da0e-4c46-d092-1eb8bbd97af9",
        "scrolled": true,
        "colab": {
          "base_uri": "https://localhost:8080/",
          "height": 289
        }
      },
      "source": [
        "epochs_train = 75\n",
        "epochs_test = 30\n",
        "\n",
        "dense_cells = 50\n",
        "n_fc = 3\n",
        "\n",
        "memory_size = 2000\n",
        "batch_size = 32\n",
        "\n",
        "\n",
        "n_fcs = [2 ,3]\n",
        "dense_cells = [32, 64]\n",
        "epsilons = [0.2]\n",
        "lrs = [0.5]\n",
        "\n",
        "res  =  {}\n",
        "for n_fc in n_fcs:\n",
        "    res[str(n_fc)] = {}\n",
        "    for dense_cell in dense_cells: \n",
        "        res[str(n_fc)][str(dense_cell)]= {}\n",
        "        for epsilon in epsilons:\n",
        "            res[str(n_fc)][str(dense_cell)][str(epsilon)] = {}\n",
        "            for lr in lrs :\n",
        "                env = Environment(grid_size=size, max_time=T, temperature=0.3)\n",
        "                agent = DQN_FC(size, n_fc = n_fc, dense_cells = dense_cell, lr=lr, epsilon = epsilon, memory_size=memory_size, batch_size = batch_size)\n",
        "                train(agent, env, epochs_train, prefix='fc_train', verbose = 0)\n",
        "                HTML(display_videos('fc_train10.mp4'))\n",
        "\n",
        "                agent_fc = DQN_FC(size, n_fc = n_fc, dense_cells = dense_cell, lr=lr, epsilon = epsilon, memory_size=memory_size, batch_size = batch_size)\n",
        "                agent_fc.load(name_weights='fc_trainmodel.h5',name_model='fc_trainmodel.json')\n",
        "                env = Environment(grid_size=size, max_time=T, temperature=0.3)\n",
        "                print('Test of the FC')\n",
        "                scores = []\n",
        "                for i in range(epochs_test):\n",
        "                    scores.append(test(agent_fc, env, 1, prefix='fc_test', verbose = 0))\n",
        "                res[str(n_fc)][str(dense_cell)][str(epsilon)][str(lr)] = 'Average Score: {} | score standard deviation : {}'.format(np.mean(scores), np.std(scores))\n",
        "                print('Scores for : nfc : {} | dense_cell : {} | epsilon : {} | lr : {}'.format(n_fc, dense_cell, epsilon, lr))\n",
        "                print('Average Score',  np.mean(scores))\n",
        "                print('score standard deviation',  np.std(scores))\n"
      ],
      "execution_count": 74,
      "outputs": [
        {
          "output_type": "stream",
          "text": [
            "Test of the FC\n",
            "Scores for : nfc : 2 | dense_cell : 32 | epsilon : 0.2 | lr : 0.5\n",
            "Average Score 2.2666666666666666\n",
            "score standard deviation 2.7041120949809425\n",
            "Test of the FC\n",
            "Scores for : nfc : 2 | dense_cell : 64 | epsilon : 0.2 | lr : 0.5\n",
            "Average Score 7.783333333333333\n",
            "score standard deviation 3.9658612627720045\n",
            "Test of the FC\n",
            "Scores for : nfc : 3 | dense_cell : 32 | epsilon : 0.2 | lr : 0.5\n",
            "Average Score 7.65\n",
            "score standard deviation 4.070524126776141\n",
            "Test of the FC\n",
            "Scores for : nfc : 3 | dense_cell : 64 | epsilon : 0.2 | lr : 0.5\n",
            "Average Score 3.9\n",
            "score standard deviation 3.0534133905079623\n"
          ],
          "name": "stdout"
        }
      ]
    },
    {
      "cell_type": "code",
      "metadata": {
        "id": "kAz0wru_TGET",
        "colab_type": "code",
        "outputId": "bedb304e-a831-4e10-86e4-55f75d5a9f15",
        "colab": {
          "base_uri": "https://localhost:8080/",
          "height": 1000
        }
      },
      "source": [
        "epochs_train = 75\n",
        "epochs_test = 10\n",
        "lr = 0.5\n",
        "epsilon = 0.2\n",
        "memory_size = 2000\n",
        "batch_size = 32\n",
        "dense_cells = 64\n",
        "n_fc = 2\n",
        "\n",
        "env = Environment(grid_size=size, max_time=T, temperature=0.3)\n",
        "agent = DQN_FC(size, lr=lr, epsilon = epsilon, memory_size=memory_size, batch_size = batch_size)\n",
        "train(agent, env, epochs_train, prefix='fc_train')\n",
        "HTML(display_videos('fc_train10.mp4'))\n",
        "\n",
        "print('Test of the FC')\n",
        "scores = []\n",
        "for i in range(epochs_test):\n",
        "    scores.append(test(agent, env, 1, prefix='fc_test', verbose = 0))\n",
        "print('Average Score',  np.mean(scores))\n",
        "print('score standard deviation',  np.std(scores))\n",
        "\n",
        "HTML(display_videos('fc_test0.mp4'))"
      ],
      "execution_count": 61,
      "outputs": [
        {
          "output_type": "stream",
          "text": [
            "Epoch 000/075 | Loss 0.0141 | Win/lose count 5.5/6.0 (-0.5)\n",
            "Epoch 001/075 | Loss 0.0045 | Win/lose count 6.0/6.0 (0.0)\n",
            "Epoch 002/075 | Loss 0.0084 | Win/lose count 1.0/5.0 (-4.0)\n",
            "Epoch 003/075 | Loss 0.0629 | Win/lose count 2.5/2.0 (0.5)\n",
            "Epoch 004/075 | Loss 0.0056 | Win/lose count 7.5/7.0 (0.5)\n",
            "Epoch 005/075 | Loss 0.0033 | Win/lose count 7.5/6.0 (1.5)\n",
            "Epoch 006/075 | Loss 0.0077 | Win/lose count 4.0/1.0 (3.0)\n",
            "Epoch 007/075 | Loss 0.0106 | Win/lose count 7.0/7.0 (0.0)\n",
            "Epoch 008/075 | Loss 0.0187 | Win/lose count 9.0/7.0 (2.0)\n",
            "Epoch 009/075 | Loss 0.0118 | Win/lose count 9.5/8.0 (1.5)\n",
            "Epoch 010/075 | Loss 0.0130 | Win/lose count 8.5/8.0 (0.5)\n",
            "Epoch 011/075 | Loss 0.0099 | Win/lose count 7.5/7.0 (0.5)\n",
            "Epoch 012/075 | Loss 0.0076 | Win/lose count 3.0/5.0 (-2.0)\n",
            "Epoch 013/075 | Loss 0.0240 | Win/lose count 5.5/9.0 (-3.5)\n",
            "Epoch 014/075 | Loss 0.0115 | Win/lose count 8.5/4.0 (4.5)\n",
            "Epoch 015/075 | Loss 0.0099 | Win/lose count 7.0/6.0 (1.0)\n",
            "Epoch 016/075 | Loss 0.0043 | Win/lose count 10.0/8.0 (2.0)\n",
            "Epoch 017/075 | Loss 0.0164 | Win/lose count 8.5/5.0 (3.5)\n",
            "Epoch 018/075 | Loss 0.0122 | Win/lose count 9.0/3.0 (6.0)\n",
            "Epoch 019/075 | Loss 0.0041 | Win/lose count 5.5/5.0 (0.5)\n",
            "Epoch 020/075 | Loss 0.0153 | Win/lose count 9.5/4.0 (5.5)\n",
            "Epoch 021/075 | Loss 0.0174 | Win/lose count 6.5/8.0 (-1.5)\n",
            "Epoch 022/075 | Loss 0.0027 | Win/lose count 7.0/8.0 (-1.0)\n",
            "Epoch 023/075 | Loss 0.0105 | Win/lose count 4.5/11.0 (-6.5)\n",
            "Epoch 024/075 | Loss 0.0137 | Win/lose count 8.0/4.0 (4.0)\n",
            "Epoch 025/075 | Loss 0.0083 | Win/lose count 9.5/5.0 (4.5)\n",
            "Epoch 026/075 | Loss 0.0101 | Win/lose count 7.5/13.0 (-5.5)\n",
            "Epoch 027/075 | Loss 0.0025 | Win/lose count 12.5/4.0 (8.5)\n",
            "Epoch 028/075 | Loss 0.0284 | Win/lose count 7.5/5.0 (2.5)\n",
            "Epoch 029/075 | Loss 0.0054 | Win/lose count 6.0/5.0 (1.0)\n",
            "Epoch 030/075 | Loss 0.0042 | Win/lose count 8.5/3.0 (5.5)\n",
            "Epoch 031/075 | Loss 0.0028 | Win/lose count 6.0/7.0 (-1.0)\n",
            "Epoch 032/075 | Loss 0.0124 | Win/lose count 7.5/6.0 (1.5)\n",
            "Epoch 033/075 | Loss 0.0030 | Win/lose count 3.5/4.0 (-0.5)\n",
            "Epoch 034/075 | Loss 0.0292 | Win/lose count 5.5/2.0 (3.5)\n",
            "Epoch 035/075 | Loss 0.0131 | Win/lose count 4.5/3.0 (1.5)\n",
            "Epoch 036/075 | Loss 0.0038 | Win/lose count 4.5/4.0 (0.5)\n",
            "Epoch 037/075 | Loss 0.0044 | Win/lose count 6.0/8.0 (-2.0)\n",
            "Epoch 038/075 | Loss 0.0557 | Win/lose count 6.0/2.0 (4.0)\n",
            "Epoch 039/075 | Loss 0.0022 | Win/lose count 12.5/8.0 (4.5)\n",
            "Epoch 040/075 | Loss 0.0048 | Win/lose count 9.0/3.0 (6.0)\n",
            "Epoch 041/075 | Loss 0.0095 | Win/lose count 4.0/5.0 (-1.0)\n",
            "Epoch 042/075 | Loss 0.0046 | Win/lose count 7.5/5.0 (2.5)\n",
            "Epoch 043/075 | Loss 0.0029 | Win/lose count 6.0/3.0 (3.0)\n",
            "Epoch 044/075 | Loss 0.0047 | Win/lose count 3.0/2.0 (1.0)\n",
            "Epoch 045/075 | Loss 0.0608 | Win/lose count 8.0/3.0 (5.0)\n",
            "Epoch 046/075 | Loss 0.0611 | Win/lose count 9.5/5.0 (4.5)\n",
            "Epoch 047/075 | Loss 0.0573 | Win/lose count 8.5/5.0 (3.5)\n",
            "Epoch 048/075 | Loss 0.0086 | Win/lose count 8.0/3.0 (5.0)\n",
            "Epoch 049/075 | Loss 0.0070 | Win/lose count 7.0/9.0 (-2.0)\n",
            "Epoch 050/075 | Loss 0.0083 | Win/lose count 9.5/2.0 (7.5)\n",
            "Epoch 051/075 | Loss 0.0236 | Win/lose count 10.5/3.0 (7.5)\n",
            "Epoch 052/075 | Loss 0.0203 | Win/lose count 6.5/4.0 (2.5)\n",
            "Epoch 053/075 | Loss 0.0100 | Win/lose count 8.5/4.0 (4.5)\n",
            "Epoch 054/075 | Loss 0.0578 | Win/lose count 9.5/6.0 (3.5)\n",
            "Epoch 055/075 | Loss 0.0172 | Win/lose count 7.0/5.0 (2.0)\n",
            "Epoch 056/075 | Loss 0.0014 | Win/lose count 6.5/0 (6.5)\n",
            "Epoch 057/075 | Loss 0.0014 | Win/lose count 6.0/4.0 (2.0)\n",
            "Epoch 058/075 | Loss 0.0544 | Win/lose count 8.5/5.0 (3.5)\n",
            "Epoch 059/075 | Loss 0.0313 | Win/lose count 8.5/4.0 (4.5)\n",
            "Epoch 060/075 | Loss 0.0069 | Win/lose count 7.0/5.0 (2.0)\n",
            "Epoch 061/075 | Loss 0.0032 | Win/lose count 8.0/4.0 (4.0)\n",
            "Epoch 062/075 | Loss 0.0023 | Win/lose count 7.5/6.0 (1.5)\n",
            "Epoch 063/075 | Loss 0.0055 | Win/lose count 7.5/3.0 (4.5)\n",
            "Epoch 064/075 | Loss 0.0090 | Win/lose count 6.5/2.0 (4.5)\n",
            "Epoch 065/075 | Loss 0.0016 | Win/lose count 2.0/1.0 (1.0)\n",
            "Epoch 066/075 | Loss 0.0156 | Win/lose count 6.0/2.0 (4.0)\n",
            "Epoch 067/075 | Loss 0.0018 | Win/lose count 7.0/4.0 (3.0)\n",
            "Epoch 068/075 | Loss 0.0024 | Win/lose count 5.0/6.0 (-1.0)\n",
            "Epoch 069/075 | Loss 0.0173 | Win/lose count 9.5/5.0 (4.5)\n",
            "Epoch 070/075 | Loss 0.0148 | Win/lose count 5.0/3.0 (2.0)\n",
            "Epoch 071/075 | Loss 0.0602 | Win/lose count 8.0/2.0 (6.0)\n",
            "Epoch 072/075 | Loss 0.0065 | Win/lose count 6.0/1.0 (5.0)\n",
            "Epoch 073/075 | Loss 0.0030 | Win/lose count 7.5/7.0 (0.5)\n",
            "Epoch 074/075 | Loss 0.0037 | Win/lose count 6.0/1.0 (5.0)\n",
            "Test of the FC\n",
            "Average Score 2.55\n",
            "score standard deviation 2.970269348055829\n"
          ],
          "name": "stdout"
        },
        {
          "output_type": "execute_result",
          "data": {
            "text/html": [
              "<video alt=\"test\" controls>\n",
              "                <source src=\"data:video/mp4;base64,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\" type=\"video/mp4\" />\n",
              "             </video>"
            ],
            "text/plain": [
              "<IPython.core.display.HTML object>"
            ]
          },
          "metadata": {
            "tags": []
          },
          "execution_count": 61
        }
      ]
    },
    {
      "cell_type": "markdown",
      "metadata": {
        "colab_type": "text",
        "id": "IlRpctxLVHcW"
      },
      "source": [
        "***\n",
        "***\n",
        "__Question 8__ Implement the DQN training algorithm using a CNN (for example, 2 convolutional layers and one final fully connected layer)."
      ]
    },
    {
      "cell_type": "code",
      "metadata": {
        "colab_type": "code",
        "id": "fTXrUF4YVHcX",
        "colab": {}
      },
      "source": [
        "class DQN_CNN(DQN):\n",
        "    def __init__(self, *args,n_blocks=2, filter_base=32, lr=0.1,**kwargs):\n",
        "        super(DQN_CNN, self).__init__(*args,**kwargs)\n",
        "        \n",
        "        input_model = keras.layers.Input(shape=(5, 5, self.n_state), name=\"input\")\n",
        "        x = input_model\n",
        "        for n_block in range(n_blocks):\n",
        "            x = Conv2D((2**n_block) * filter_base, 3, padding=\"same\", activation=\"relu\", name=\"conv{}_1\".format(n_block))(x)\n",
        "            x = Conv2D((2**n_block) * filter_base, 3, padding=\"same\", activation=\"relu\", name=\"conv{}_2\".format(n_block))(x)\n",
        "            x = MaxPooling2D(name=\"pooled_{}\".format(n_block), strides=1)(x) # we are not downscaling \n",
        "        x = keras.layers.Flatten(name=\"flatten\")(x)\n",
        "        x = Dense(4, name=\"output\")(x)\n",
        "        model = keras.models.Model(input_model, x)\n",
        "\n",
        "        model.compile(sgd(lr=lr, decay=1e-4, momentum=0.0), \"mse\")\n",
        "        self.model = model\n"
      ],
      "execution_count": 0,
      "outputs": []
    },
    {
      "cell_type": "markdown",
      "metadata": {
        "id": "c7PmxbHS_cff",
        "colab_type": "text"
      },
      "source": [
        "### Testing the CNN agent"
      ]
    },
    {
      "cell_type": "code",
      "metadata": {
        "colab_type": "code",
        "id": "FJMPFxR1VHcd",
        "outputId": "db16902c-6f1a-4249-db2f-e9f1915c9933",
        "colab": {
          "base_uri": "https://localhost:8080/",
          "height": 1000
        }
      },
      "source": [
        "epochs_train = 50\n",
        "epochs_test = 10\n",
        "\n",
        "memory_size = 2000\n",
        "batch_size = 32\n",
        "\n",
        "\n",
        "n_block = 2\n",
        "filter_base = 64\n",
        "epsilon = 0.1\n",
        "lr = 0.1\n",
        "\n",
        "env = Environment(grid_size=size, max_time=T, temperature=0.3)\n",
        "agent = DQN_CNN(n_blocks=n_block, filter_base=filter_base, lr=lr, grid_size=size, epsilon=epsilon, memory_size=memory_size, batch_size=batch_size)\n",
        "train(agent, env, epochs_train, prefix='cnn_train')\n",
        "HTML(display_videos('cnn_train20.mp4'))\n",
        "\n",
        "print('Test of the CNN')\n",
        "test(agent, env, epochs_test, prefix='cnn_test')"
      ],
      "execution_count": 0,
      "outputs": [
        {
          "output_type": "stream",
          "text": [
            "Epoch 000/050 | Loss 0.0273 | Win/lose count 5.5/4.0 (1.5)\n",
            "Epoch 001/050 | Loss 0.0073 | Win/lose count 2.5/7.0 (-4.5)\n",
            "Epoch 002/050 | Loss 0.0179 | Win/lose count 11.0/15.0 (-4.0)\n",
            "Epoch 003/050 | Loss 0.0166 | Win/lose count 15.5/13.0 (2.5)\n",
            "Epoch 004/050 | Loss 0.0071 | Win/lose count 5.5/4.0 (1.5)\n",
            "Epoch 005/050 | Loss 0.0061 | Win/lose count 7.5/3.0 (4.5)\n",
            "Epoch 006/050 | Loss 0.0102 | Win/lose count 8.0/6.0 (2.0)\n",
            "Epoch 007/050 | Loss 0.0136 | Win/lose count 6.5/6.0 (0.5)\n",
            "Epoch 008/050 | Loss 0.0146 | Win/lose count 5.5/2.0 (3.5)\n",
            "Epoch 009/050 | Loss 0.0055 | Win/lose count 11.5/3.0 (8.5)\n",
            "Epoch 010/050 | Loss 0.0085 | Win/lose count 13.0/5.0 (8.0)\n",
            "Epoch 011/050 | Loss 0.0055 | Win/lose count 8.5/5.0 (3.5)\n",
            "Epoch 012/050 | Loss 0.0148 | Win/lose count 10.0/7.0 (3.0)\n",
            "Epoch 013/050 | Loss 0.0022 | Win/lose count 17.5/4.0 (13.5)\n",
            "Epoch 014/050 | Loss 0.0702 | Win/lose count 6.5/4.0 (2.5)\n",
            "Epoch 015/050 | Loss 0.0177 | Win/lose count 11.5/4.0 (7.5)\n",
            "Epoch 016/050 | Loss 0.0096 | Win/lose count 8.5/4.0 (4.5)\n",
            "Epoch 017/050 | Loss 0.0130 | Win/lose count 8.0/5.0 (3.0)\n",
            "Epoch 018/050 | Loss 0.0036 | Win/lose count 9.0/3.0 (6.0)\n",
            "Epoch 019/050 | Loss 0.0030 | Win/lose count 17.5/1.0 (16.5)\n",
            "Epoch 020/050 | Loss 0.0016 | Win/lose count 6.0/2.0 (4.0)\n",
            "Epoch 021/050 | Loss 0.0026 | Win/lose count 14.0/3.0 (11.0)\n",
            "Epoch 022/050 | Loss 0.0095 | Win/lose count 15.5/2.0 (13.5)\n",
            "Epoch 023/050 | Loss 0.0023 | Win/lose count 8.0/2.0 (6.0)\n",
            "Epoch 024/050 | Loss 0.0031 | Win/lose count 16.0/5.0 (11.0)\n",
            "Epoch 025/050 | Loss 0.0063 | Win/lose count 10.5/1.0 (9.5)\n",
            "Epoch 026/050 | Loss 0.0475 | Win/lose count 16.0/7.0 (9.0)\n",
            "Epoch 027/050 | Loss 0.0029 | Win/lose count 6.0/2.0 (4.0)\n",
            "Epoch 028/050 | Loss 0.0641 | Win/lose count 11.5/9.0 (2.5)\n",
            "Epoch 029/050 | Loss 0.0556 | Win/lose count 10.0/4.0 (6.0)\n",
            "Epoch 030/050 | Loss 0.0098 | Win/lose count 15.5/4.0 (11.5)\n",
            "Epoch 031/050 | Loss 0.0041 | Win/lose count 14.0/3.0 (11.0)\n",
            "Epoch 032/050 | Loss 0.0062 | Win/lose count 14.0/2.0 (12.0)\n",
            "Epoch 033/050 | Loss 0.0072 | Win/lose count 8.0/2.0 (6.0)\n",
            "Epoch 034/050 | Loss 0.0085 | Win/lose count 13.0/4.0 (9.0)\n",
            "Epoch 035/050 | Loss 0.0033 | Win/lose count 4.0/5.0 (-1.0)\n",
            "Epoch 036/050 | Loss 0.0021 | Win/lose count 12.5/2.0 (10.5)\n",
            "Epoch 037/050 | Loss 0.0126 | Win/lose count 8.0/4.0 (4.0)\n",
            "Epoch 038/050 | Loss 0.0024 | Win/lose count 20.5/6.0 (14.5)\n",
            "Epoch 039/050 | Loss 0.0076 | Win/lose count 14.5/7.0 (7.5)\n",
            "Epoch 040/050 | Loss 0.0114 | Win/lose count 15.5/9.0 (6.5)\n",
            "Epoch 041/050 | Loss 0.0239 | Win/lose count 11.0/2.0 (9.0)\n",
            "Epoch 042/050 | Loss 0.0020 | Win/lose count 9.0/7.0 (2.0)\n",
            "Epoch 043/050 | Loss 0.0020 | Win/lose count 10.0/3.0 (7.0)\n",
            "Epoch 044/050 | Loss 0.0034 | Win/lose count 7.5/1.0 (6.5)\n",
            "Epoch 045/050 | Loss 0.0529 | Win/lose count 13.0/0 (13.0)\n",
            "Epoch 046/050 | Loss 0.0027 | Win/lose count 16.5/4.0 (12.5)\n",
            "Epoch 047/050 | Loss 0.0035 | Win/lose count 16.0/2.0 (14.0)\n",
            "Epoch 048/050 | Loss 0.0152 | Win/lose count 13.0/4.0 (9.0)\n",
            "Epoch 049/050 | Loss 0.0582 | Win/lose count 14.5/7.0 (7.5)\n",
            "Test of the CNN\n",
            "Win/lose count 5.0/1.0. Average score (4.0)\n",
            "Win/lose count 6.5/1.0. Average score (4.75)\n",
            "Win/lose count 4.0/2.0. Average score (3.8333333333333335)\n",
            "Win/lose count 6.5/2.0. Average score (4.0)\n",
            "Win/lose count 5.5/3.0. Average score (3.7)\n",
            "Win/lose count 5.5/1.0. Average score (3.8333333333333335)\n",
            "Win/lose count 3.0/0. Average score (3.7142857142857144)\n",
            "Win/lose count 2.5/2.0. Average score (3.3125)\n",
            "Win/lose count 6.5/1.0. Average score (3.5555555555555554)\n",
            "Win/lose count 4.5/2.0. Average score (3.45)\n",
            "Final score: 3.45\n"
          ],
          "name": "stdout"
        },
        {
          "output_type": "execute_result",
          "data": {
            "text/plain": [
              "34.5"
            ]
          },
          "metadata": {
            "tags": []
          },
          "execution_count": 27
        }
      ]
    },
    {
      "cell_type": "markdown",
      "metadata": {
        "id": "79M0fRJE_cfk",
        "colab_type": "text"
      },
      "source": [
        "### Finding a good set of hyperparameters\n",
        "\n",
        "The approach is the same as for the FC agent"
      ]
    },
    {
      "cell_type": "code",
      "metadata": {
        "colab_type": "code",
        "id": "G8x83SZJlum6",
        "outputId": "f74c2c0a-0b13-4822-fa83-48582b258b64",
        "colab": {
          "base_uri": "https://localhost:8080/",
          "height": 1000
        }
      },
      "source": [
        "epochs_train = 50\n",
        "epochs_test = 10\n",
        "\n",
        "dense_cells = 50\n",
        "n_fc = 3\n",
        "\n",
        "memory_size = 2000\n",
        "batch_size = 32\n",
        "\n",
        "\n",
        "n_blocks = [1, 2 ,3]\n",
        "filter_bases = [32, 64]\n",
        "epsilons = [0.1, 0.2]\n",
        "lrs = [0.1, 0.5]\n",
        "\n",
        "res  =  {}\n",
        "for n_block in n_blocks:\n",
        "    res[str(n_block)] = {}\n",
        "    for filter_base in filter_bases: \n",
        "        res[str(n_block)][str(filter_base)]= {}\n",
        "        for epsilon in epsilons:\n",
        "            res[str(n_block)][str(filter_base)][str(epsilon)] = {}\n",
        "            for lr in lrs :\n",
        "                env = Environment(grid_size=size, max_time=T, temperature=0.3)\n",
        "                agent = DQN_CNN(size, n_blocks=n_block, filter_base = filter_base, lr=lr, epsilon = epsilon, memory_size=memory_size, batch_size = batch_size)\n",
        "                train(agent, env, epochs_train, prefix='CNN_train', verbose = 0)\n",
        "                print('Test of the CNN')\n",
        "                scores = []\n",
        "                for i in range(epochs_test):\n",
        "                    scores.append(test(agent, env, 1, prefix='CNN_test', verbose = 0))\n",
        "                res[str(n_block)][str(filter_base)][str(epsilon)][str(lr)] = 'Average Score: {} | score standard deviation : {}'.format(np.mean(scores), np.std(scores))\n",
        "                print('Scores for : n_blocks : {} | filter_base : {} | epsilon : {} | lr : {}'.format(n_block, filter_base, epsilon, lr))\n",
        "                print('Average Score',  np.mean(scores))\n",
        "                print('score standard deviation',  np.std(scores))"
      ],
      "execution_count": 0,
      "outputs": [
        {
          "output_type": "stream",
          "text": [
            "Test of the CNN\n",
            "Scores for : n_blocks : 1 | filter_base : 32 | epsilon : 0.1 | lr : 0.1\n",
            "Average Score 5.5\n",
            "score standard deviation 2.247220505424423\n",
            "Test of the CNN\n",
            "Scores for : n_blocks : 1 | filter_base : 32 | epsilon : 0.1 | lr : 0.5\n",
            "Average Score 5.1\n",
            "score standard deviation 2.244994432064365\n",
            "Test of the CNN\n",
            "Scores for : n_blocks : 1 | filter_base : 32 | epsilon : 0.2 | lr : 0.1\n",
            "Average Score 4.0\n",
            "score standard deviation 2.345207879911715\n",
            "Test of the CNN\n",
            "Scores for : n_blocks : 1 | filter_base : 32 | epsilon : 0.2 | lr : 0.5\n",
            "Average Score 3.9\n",
            "score standard deviation 4.1400483088968905\n",
            "Test of the CNN\n",
            "Scores for : n_blocks : 1 | filter_base : 64 | epsilon : 0.1 | lr : 0.1\n",
            "Average Score 1.75\n",
            "score standard deviation 1.631716887208072\n",
            "Test of the CNN\n",
            "Scores for : n_blocks : 1 | filter_base : 64 | epsilon : 0.1 | lr : 0.5\n",
            "Average Score 4.55\n",
            "score standard deviation 3.304920573932148\n",
            "Test of the CNN\n",
            "Scores for : n_blocks : 1 | filter_base : 64 | epsilon : 0.2 | lr : 0.1\n",
            "Average Score 4.05\n",
            "score standard deviation 3.10201547384922\n",
            "Test of the CNN\n",
            "Scores for : n_blocks : 1 | filter_base : 64 | epsilon : 0.2 | lr : 0.5\n",
            "Average Score 2.15\n",
            "score standard deviation 1.6439282222773597\n",
            "Test of the CNN\n",
            "Scores for : n_blocks : 2 | filter_base : 32 | epsilon : 0.1 | lr : 0.1\n",
            "Average Score 2.5\n",
            "score standard deviation 2.224859546128699\n",
            "Test of the CNN\n",
            "Scores for : n_blocks : 2 | filter_base : 32 | epsilon : 0.1 | lr : 0.5\n",
            "Average Score -0.15\n",
            "score standard deviation 2.0254629100529096\n",
            "Test of the CNN\n",
            "Scores for : n_blocks : 2 | filter_base : 32 | epsilon : 0.2 | lr : 0.1\n",
            "Average Score 5.4\n",
            "score standard deviation 2.2671568097509267\n",
            "Test of the CNN\n",
            "Scores for : n_blocks : 2 | filter_base : 32 | epsilon : 0.2 | lr : 0.5\n",
            "Average Score -2.15\n",
            "score standard deviation 2.5401771591761073\n",
            "Test of the CNN\n",
            "Scores for : n_blocks : 2 | filter_base : 64 | epsilon : 0.1 | lr : 0.1\n",
            "Average Score 2.65\n",
            "score standard deviation 1.8445866745696717\n",
            "Test of the CNN\n",
            "Scores for : n_blocks : 2 | filter_base : 64 | epsilon : 0.1 | lr : 0.5\n",
            "Average Score 2.8\n",
            "score standard deviation 1.676305461424021\n",
            "Test of the CNN\n",
            "Scores for : n_blocks : 2 | filter_base : 64 | epsilon : 0.2 | lr : 0.1\n",
            "Average Score 3.5\n",
            "score standard deviation 3.0083217912982647\n",
            "Test of the CNN\n",
            "Scores for : n_blocks : 2 | filter_base : 64 | epsilon : 0.2 | lr : 0.5\n",
            "Average Score -1.65\n",
            "score standard deviation 2.133658829335187\n",
            "Test of the CNN\n",
            "Scores for : n_blocks : 3 | filter_base : 32 | epsilon : 0.1 | lr : 0.1\n",
            "Average Score 0.35\n",
            "score standard deviation 0.9759610647971567\n",
            "Test of the CNN\n",
            "Scores for : n_blocks : 3 | filter_base : 32 | epsilon : 0.1 | lr : 0.5\n",
            "Average Score -0.75\n",
            "score standard deviation 1.585086748414736\n",
            "Test of the CNN\n",
            "Scores for : n_blocks : 3 | filter_base : 32 | epsilon : 0.2 | lr : 0.1\n",
            "Average Score 2.95\n",
            "score standard deviation 2.678152348168416\n",
            "Test of the CNN\n",
            "Scores for : n_blocks : 3 | filter_base : 32 | epsilon : 0.2 | lr : 0.5\n",
            "Average Score 3.45\n",
            "score standard deviation 2.742717630380495\n",
            "Test of the CNN\n",
            "Scores for : n_blocks : 3 | filter_base : 64 | epsilon : 0.1 | lr : 0.1\n",
            "Average Score 3.15\n",
            "score standard deviation 5.380752735445107\n",
            "Test of the CNN\n",
            "Scores for : n_blocks : 3 | filter_base : 64 | epsilon : 0.1 | lr : 0.5\n",
            "Average Score 1.85\n",
            "score standard deviation 2.180022935659164\n",
            "Test of the CNN\n",
            "Scores for : n_blocks : 3 | filter_base : 64 | epsilon : 0.2 | lr : 0.1\n",
            "Average Score 6.1\n",
            "score standard deviation 3.389690251335659\n",
            "Test of the CNN\n",
            "Scores for : n_blocks : 3 | filter_base : 64 | epsilon : 0.2 | lr : 0.5\n",
            "Average Score 0.05\n",
            "score standard deviation 1.603901493234544\n"
          ],
          "name": "stdout"
        }
      ]
    },
    {
      "cell_type": "code",
      "metadata": {
        "id": "Me-9gHRte1RD",
        "colab_type": "code",
        "colab": {
          "base_uri": "https://localhost:8080/",
          "height": 1000
        },
        "outputId": "4812b754-17ee-40c8-b1f8-01e8757c5cf6"
      },
      "source": [
        "epochs_train = 50\n",
        "epochs_test = 10\n",
        "\n",
        "memory_size = 2000\n",
        "batch_size = 32\n",
        "\n",
        "\n",
        "n_block = 1\n",
        "filter_base = 32\n",
        "epsilon = 0.1\n",
        "lr = 0.1\n",
        "\n",
        "env = Environment(grid_size=size, max_time=T, temperature=0.3)\n",
        "agent = DQN_CNN(n_blocks=n_block, filter_base=filter_base, lr=lr, grid_size=size, epsilon=epsilon, memory_size=memory_size, batch_size=batch_size)\n",
        "train(agent, env, epochs_train, prefix='cnn_train')\n",
        "HTML(display_videos('cnn_train20.mp4'))\n",
        "\n",
        "print('Test of the CNN')\n",
        "test(agent, env, epochs_test, prefix='cnn_test')"
      ],
      "execution_count": 63,
      "outputs": [
        {
          "output_type": "stream",
          "text": [
            "Epoch 000/050 | Loss 0.0698 | Win/lose count 4.0/4.0 (0.0)\n",
            "Epoch 001/050 | Loss 0.0023 | Win/lose count 3.5/4.0 (-0.5)\n",
            "Epoch 002/050 | Loss 0.0037 | Win/lose count 5.0/5.0 (0.0)\n",
            "Epoch 003/050 | Loss 0.0175 | Win/lose count 8.5/13.0 (-4.5)\n",
            "Epoch 004/050 | Loss 0.0129 | Win/lose count 4.5/5.0 (-0.5)\n",
            "Epoch 005/050 | Loss 0.0036 | Win/lose count 8.0/4.0 (4.0)\n",
            "Epoch 006/050 | Loss 0.0047 | Win/lose count 2.0/3.0 (-1.0)\n",
            "Epoch 007/050 | Loss 0.0047 | Win/lose count 6.0/1.0 (5.0)\n",
            "Epoch 008/050 | Loss 0.0052 | Win/lose count 5.5/1.0 (4.5)\n",
            "Epoch 009/050 | Loss 0.0038 | Win/lose count 5.5/8.0 (-2.5)\n",
            "Epoch 010/050 | Loss 0.0075 | Win/lose count 11.5/2.0 (9.5)\n",
            "Epoch 011/050 | Loss 0.0127 | Win/lose count 10.5/6.0 (4.5)\n",
            "Epoch 012/050 | Loss 0.0676 | Win/lose count 10.0/7.0 (3.0)\n",
            "Epoch 013/050 | Loss 0.0104 | Win/lose count 11.0/13.0 (-2.0)\n",
            "Epoch 014/050 | Loss 0.0053 | Win/lose count 11.0/4.0 (7.0)\n",
            "Epoch 015/050 | Loss 0.0033 | Win/lose count 4.0/4.0 (0.0)\n",
            "Epoch 016/050 | Loss 0.0170 | Win/lose count 15.0/3.0 (12.0)\n",
            "Epoch 017/050 | Loss 0.0164 | Win/lose count 11.5/7.0 (4.5)\n",
            "Epoch 018/050 | Loss 0.0044 | Win/lose count 14.5/4.0 (10.5)\n",
            "Epoch 019/050 | Loss 0.0040 | Win/lose count 7.0/4.0 (3.0)\n",
            "Epoch 020/050 | Loss 0.0033 | Win/lose count 9.5/6.0 (3.5)\n",
            "Epoch 021/050 | Loss 0.0034 | Win/lose count 5.0/4.0 (1.0)\n",
            "Epoch 022/050 | Loss 0.0041 | Win/lose count 6.0/7.0 (-1.0)\n",
            "Epoch 023/050 | Loss 0.0036 | Win/lose count 9.0/2.0 (7.0)\n",
            "Epoch 024/050 | Loss 0.0094 | Win/lose count 4.0/4.0 (0.0)\n",
            "Epoch 025/050 | Loss 0.0030 | Win/lose count 11.5/7.0 (4.5)\n",
            "Epoch 026/050 | Loss 0.0030 | Win/lose count 5.5/4.0 (1.5)\n",
            "Epoch 027/050 | Loss 0.0135 | Win/lose count 12.5/7.0 (5.5)\n",
            "Epoch 028/050 | Loss 0.0035 | Win/lose count 4.5/5.0 (-0.5)\n",
            "Epoch 029/050 | Loss 0.0097 | Win/lose count 7.5/3.0 (4.5)\n",
            "Epoch 030/050 | Loss 0.0045 | Win/lose count 12.5/3.0 (9.5)\n",
            "Epoch 031/050 | Loss 0.0030 | Win/lose count 13.0/5.0 (8.0)\n",
            "Epoch 032/050 | Loss 0.0112 | Win/lose count 13.0/7.0 (6.0)\n",
            "Epoch 033/050 | Loss 0.0098 | Win/lose count 12.5/7.0 (5.5)\n",
            "Epoch 034/050 | Loss 0.0098 | Win/lose count 10.0/9.0 (1.0)\n",
            "Epoch 035/050 | Loss 0.0123 | Win/lose count 6.5/1.0 (5.5)\n",
            "Epoch 036/050 | Loss 0.0034 | Win/lose count 14.0/6.0 (8.0)\n",
            "Epoch 037/050 | Loss 0.0172 | Win/lose count 8.0/7.0 (1.0)\n",
            "Epoch 038/050 | Loss 0.0027 | Win/lose count 17.5/14.0 (3.5)\n",
            "Epoch 039/050 | Loss 0.0123 | Win/lose count 3.5/3.0 (0.5)\n",
            "Epoch 040/050 | Loss 0.0230 | Win/lose count 16.0/8.0 (8.0)\n",
            "Epoch 041/050 | Loss 0.0031 | Win/lose count 6.0/1.0 (5.0)\n",
            "Epoch 042/050 | Loss 0.0089 | Win/lose count 12.0/7.0 (5.0)\n",
            "Epoch 043/050 | Loss 0.0592 | Win/lose count 14.5/2.0 (12.5)\n",
            "Epoch 044/050 | Loss 0.0148 | Win/lose count 12.5/4.0 (8.5)\n",
            "Epoch 045/050 | Loss 0.0027 | Win/lose count 22.5/4.0 (18.5)\n",
            "Epoch 046/050 | Loss 0.0170 | Win/lose count 9.5/1.0 (8.5)\n",
            "Epoch 047/050 | Loss 0.0049 | Win/lose count 8.0/6.0 (2.0)\n",
            "Epoch 048/050 | Loss 0.0034 | Win/lose count 3.0/2.0 (1.0)\n",
            "Epoch 049/050 | Loss 0.0023 | Win/lose count 11.0/2.0 (9.0)\n",
            "Test of the CNN\n",
            "Win/lose count 3.5/3.0. Average score (0.5)\n",
            "Win/lose count 5.5/1.0. Average score (2.5)\n",
            "Win/lose count 4.5/4.0. Average score (1.8333333333333333)\n",
            "Win/lose count 6.0/4.0. Average score (1.875)\n",
            "Win/lose count 7.5/1.0. Average score (2.8)\n",
            "Win/lose count 6.5/3.0. Average score (2.9166666666666665)\n",
            "Win/lose count 3.5/1.0. Average score (2.857142857142857)\n",
            "Win/lose count 1.5/2.0. Average score (2.4375)\n",
            "Win/lose count 5.0/1.0. Average score (2.611111111111111)\n",
            "Win/lose count 6.0/4.0. Average score (2.55)\n",
            "Final score: 2.55\n"
          ],
          "name": "stdout"
        },
        {
          "output_type": "execute_result",
          "data": {
            "text/plain": [
              "25.5"
            ]
          },
          "metadata": {
            "tags": []
          },
          "execution_count": 63
        }
      ]
    },
    {
      "cell_type": "markdown",
      "metadata": {
        "id": "KejXYyxl_cfp",
        "colab_type": "text"
      },
      "source": [
        "### Results"
      ]
    },
    {
      "cell_type": "markdown",
      "metadata": {
        "colab_type": "text",
        "id": "Kw4bxieaVHck"
      },
      "source": [
        "***\n",
        "***\n",
        "__Question 9__ Test both algorithms and compare their performances. Which issue(s) do you observe? Observe also different behaviors by changing the temperature."
      ]
    },
    {
      "cell_type": "code",
      "metadata": {
        "colab_type": "code",
        "id": "zZlWCevBVHcl",
        "colab": {
          "base_uri": "https://localhost:8080/",
          "height": 1000
        },
        "outputId": "bf8a1bc5-1526-4944-b989-c1053d9d5c88"
      },
      "source": [
        "epochs_test = 15\n",
        "for temperature in range(1,10):\n",
        "  print('temperature is {}'.format(temperature/10))\n",
        "  env = Environment(grid_size=size, max_time=T,temperature=temperature/10)\n",
        "  agent_cnn = DQN_CNN(size, lr=.1, epsilon = 0.1, memory_size=2000, batch_size = 32)\n",
        "  agent_cnn.load(name_weights='cnn_trainmodel.h5',name_model='cnn_trainmodel.json')\n",
        "\n",
        "  agent_fc = DQN_FC(size, lr=.1, epsilon = 0.1, memory_size=2000, batch_size = 32)\n",
        "  agent_fc.load(name_weights='fc_trainmodel.h5',name_model='fc_trainmodel.json')\n",
        "  print('Test of the CNN')\n",
        "  test(agent_cnn,env,epochs_test,prefix='cnn_test')\n",
        "  print('Test of the FC')\n",
        "  test(agent_fc,env,epochs_test,prefix='fc_test')\n"
      ],
      "execution_count": 71,
      "outputs": [
        {
          "output_type": "stream",
          "text": [
            "temperature is 0.1\n",
            "Test of the CNN\n",
            "Win/lose count 3.0/2.0. Average score (1.0)\n",
            "Win/lose count 1.5/2.0. Average score (0.25)\n",
            "Win/lose count 1.5/0. Average score (0.6666666666666666)\n",
            "Win/lose count 1.0/0. Average score (0.75)\n",
            "Win/lose count 1.5/0. Average score (0.9)\n",
            "Win/lose count 2.0/1.0. Average score (0.9166666666666666)\n",
            "Win/lose count 2.0/1.0. Average score (0.9285714285714286)\n",
            "Win/lose count 2.0/2.0. Average score (0.8125)\n",
            "Win/lose count 0/0. Average score (0.7222222222222222)\n",
            "Win/lose count 0/1.0. Average score (0.55)\n",
            "Win/lose count 2.0/2.0. Average score (0.5)\n",
            "Win/lose count 2.5/0. Average score (0.6666666666666666)\n",
            "Win/lose count 0/2.0. Average score (0.46153846153846156)\n",
            "Win/lose count 2.5/2.0. Average score (0.4642857142857143)\n",
            "Win/lose count 2.0/1.0. Average score (0.5)\n",
            "Final score: 0.5\n",
            "Test of the FC\n",
            "Win/lose count 2.0/1.0. Average score (1.0)\n",
            "Win/lose count 1.5/1.0. Average score (0.75)\n",
            "Win/lose count 0.5/1.0. Average score (0.3333333333333333)\n",
            "Win/lose count 3.0/1.0. Average score (0.75)\n",
            "Win/lose count 3.0/0. Average score (1.2)\n",
            "Win/lose count 2.5/2.0. Average score (1.0833333333333333)\n",
            "Win/lose count 0.5/1.0. Average score (0.8571428571428571)\n",
            "Win/lose count 1.5/2.0. Average score (0.6875)\n",
            "Win/lose count 1.5/1.0. Average score (0.6666666666666666)\n",
            "Win/lose count 2.0/0. Average score (0.8)\n",
            "Win/lose count 1.5/1.0. Average score (0.7727272727272727)\n",
            "Win/lose count 5.0/0. Average score (1.125)\n",
            "Win/lose count 2.5/1.0. Average score (1.1538461538461537)\n",
            "Win/lose count 1.0/0. Average score (1.1428571428571428)\n",
            "Win/lose count 3.0/0. Average score (1.2666666666666666)\n",
            "Final score: 1.2666666666666666\n",
            "temperature is 0.2\n",
            "Test of the CNN\n",
            "Win/lose count 9.5/2.0. Average score (7.5)\n",
            "Win/lose count 4.5/2.0. Average score (5.0)\n",
            "Win/lose count 3.5/1.0. Average score (4.166666666666667)\n",
            "Win/lose count 2.0/4.0. Average score (2.625)\n",
            "Win/lose count 6.0/2.0. Average score (2.9)\n",
            "Win/lose count 2.0/0. Average score (2.75)\n",
            "Win/lose count 5.0/2.0. Average score (2.7857142857142856)\n",
            "Win/lose count 6.0/2.0. Average score (2.9375)\n",
            "Win/lose count 3.0/1.0. Average score (2.8333333333333335)\n",
            "Win/lose count 3.0/0. Average score (2.85)\n",
            "Win/lose count 1.0/3.0. Average score (2.409090909090909)\n",
            "Win/lose count 3.0/1.0. Average score (2.375)\n",
            "Win/lose count 6.0/1.0. Average score (2.576923076923077)\n",
            "Win/lose count 0/1.0. Average score (2.3214285714285716)\n",
            "Win/lose count 7.5/1.0. Average score (2.6)\n",
            "Final score: 2.6\n",
            "Test of the FC\n",
            "Win/lose count 3.5/2.0. Average score (1.5)\n",
            "Win/lose count 2.5/2.0. Average score (1.0)\n",
            "Win/lose count 3.5/1.0. Average score (1.5)\n",
            "Win/lose count 2.0/2.0. Average score (1.125)\n",
            "Win/lose count 4.5/1.0. Average score (1.6)\n",
            "Win/lose count 1.5/0. Average score (1.5833333333333333)\n",
            "Win/lose count 2.0/5.0. Average score (0.9285714285714286)\n",
            "Win/lose count 1.5/1.0. Average score (0.875)\n",
            "Win/lose count 2.5/1.0. Average score (0.9444444444444444)\n",
            "Win/lose count 1.5/2.0. Average score (0.8)\n",
            "Win/lose count 1.5/0. Average score (0.8636363636363636)\n",
            "Win/lose count 3.5/0. Average score (1.0833333333333333)\n",
            "Win/lose count 2.5/4.0. Average score (0.8846153846153846)\n",
            "Win/lose count 3.0/1.0. Average score (0.9642857142857143)\n",
            "Win/lose count 2.0/4.0. Average score (0.7666666666666667)\n",
            "Final score: 0.7666666666666667\n",
            "temperature is 0.3\n",
            "Test of the CNN\n",
            "Win/lose count 6.5/5.0. Average score (1.5)\n",
            "Win/lose count 10.0/2.0. Average score (4.75)\n",
            "Win/lose count 5.0/3.0. Average score (3.8333333333333335)\n",
            "Win/lose count 7.0/0. Average score (4.625)\n",
            "Win/lose count 2.0/3.0. Average score (3.5)\n",
            "Win/lose count 5.0/2.0. Average score (3.4166666666666665)\n",
            "Win/lose count 8.5/1.0. Average score (4.0)\n",
            "Win/lose count 4.0/2.0. Average score (3.75)\n",
            "Win/lose count 5.0/3.0. Average score (3.5555555555555554)\n",
            "Win/lose count 6.5/2.0. Average score (3.65)\n",
            "Win/lose count 6.0/4.0. Average score (3.5)\n",
            "Win/lose count 13.0/4.0. Average score (3.9583333333333335)\n",
            "Win/lose count 7.5/3.0. Average score (4.0)\n",
            "Win/lose count 8.0/4.0. Average score (4.0)\n",
            "Win/lose count 10.0/2.0. Average score (4.266666666666667)\n",
            "Final score: 4.266666666666667\n",
            "Test of the FC\n",
            "Win/lose count 6.0/6.0. Average score (0.0)\n",
            "Win/lose count 2.0/2.0. Average score (0.0)\n",
            "Win/lose count 2.5/1.0. Average score (0.5)\n",
            "Win/lose count 3.0/3.0. Average score (0.375)\n",
            "Win/lose count 1.5/4.0. Average score (-0.2)\n",
            "Win/lose count 3.0/1.0. Average score (0.16666666666666666)\n",
            "Win/lose count 2.5/0. Average score (0.5)\n",
            "Win/lose count 4.5/1.0. Average score (0.875)\n",
            "Win/lose count 5.0/2.0. Average score (1.1111111111111112)\n",
            "Win/lose count 5.5/2.0. Average score (1.35)\n",
            "Win/lose count 9.0/4.0. Average score (1.6818181818181819)\n",
            "Win/lose count 4.5/1.0. Average score (1.8333333333333333)\n",
            "Win/lose count 6.5/7.0. Average score (1.6538461538461537)\n",
            "Win/lose count 4.0/2.0. Average score (1.6785714285714286)\n",
            "Win/lose count 4.0/3.0. Average score (1.6333333333333333)\n",
            "Final score: 1.6333333333333333\n",
            "temperature is 0.4\n",
            "Test of the CNN\n",
            "Win/lose count 6.0/4.0. Average score (2.0)\n",
            "Win/lose count 9.0/3.0. Average score (4.0)\n",
            "Win/lose count 4.0/6.0. Average score (2.0)\n",
            "Win/lose count 9.5/3.0. Average score (3.125)\n",
            "Win/lose count 7.5/4.0. Average score (3.2)\n",
            "Win/lose count 11.5/5.0. Average score (3.75)\n",
            "Win/lose count 3.5/1.0. Average score (3.5714285714285716)\n",
            "Win/lose count 5.0/4.0. Average score (3.25)\n",
            "Win/lose count 6.0/4.0. Average score (3.111111111111111)\n",
            "Win/lose count 7.0/3.0. Average score (3.2)\n",
            "Win/lose count 9.0/1.0. Average score (3.6363636363636362)\n",
            "Win/lose count 6.5/5.0. Average score (3.4583333333333335)\n",
            "Win/lose count 9.5/6.0. Average score (3.4615384615384617)\n",
            "Win/lose count 13.0/3.0. Average score (3.9285714285714284)\n",
            "Win/lose count 3.0/1.0. Average score (3.8)\n",
            "Final score: 3.8\n",
            "Test of the FC\n",
            "Win/lose count 2.0/2.0. Average score (0.0)\n",
            "Win/lose count 5.0/3.0. Average score (1.0)\n",
            "Win/lose count 3.5/3.0. Average score (0.8333333333333334)\n",
            "Win/lose count 6.0/1.0. Average score (1.875)\n",
            "Win/lose count 4.5/2.0. Average score (2.0)\n",
            "Win/lose count 5.0/3.0. Average score (2.0)\n",
            "Win/lose count 5.0/3.0. Average score (2.0)\n",
            "Win/lose count 10.5/3.0. Average score (2.6875)\n",
            "Win/lose count 4.5/0. Average score (2.888888888888889)\n",
            "Win/lose count 5.5/1.0. Average score (3.05)\n",
            "Win/lose count 9.5/2.0. Average score (3.4545454545454546)\n",
            "Win/lose count 4.5/4.0. Average score (3.2083333333333335)\n",
            "Win/lose count 5.0/1.0. Average score (3.269230769230769)\n",
            "Win/lose count 7.0/3.0. Average score (3.3214285714285716)\n",
            "Win/lose count 4.5/1.0. Average score (3.3333333333333335)\n",
            "Final score: 3.3333333333333335\n",
            "temperature is 0.5\n",
            "Test of the CNN\n",
            "Win/lose count 7.0/3.0. Average score (4.0)\n",
            "Win/lose count 2.0/4.0. Average score (1.0)\n",
            "Win/lose count 11.0/2.0. Average score (3.6666666666666665)\n",
            "Win/lose count 17.0/5.0. Average score (5.75)\n",
            "Win/lose count 6.5/5.0. Average score (4.9)\n",
            "Win/lose count 12.5/3.0. Average score (5.666666666666667)\n",
            "Win/lose count 7.5/3.0. Average score (5.5)\n",
            "Win/lose count 3.0/1.0. Average score (5.0625)\n",
            "Win/lose count 13.0/3.0. Average score (5.611111111111111)\n",
            "Win/lose count 12.0/3.0. Average score (5.95)\n",
            "Win/lose count 9.5/5.0. Average score (5.818181818181818)\n",
            "Win/lose count 3.0/1.0. Average score (5.5)\n",
            "Win/lose count 11.0/2.0. Average score (5.769230769230769)\n",
            "Win/lose count 2.5/1.0. Average score (5.464285714285714)\n",
            "Win/lose count 19.0/1.0. Average score (6.3)\n",
            "Final score: 6.3\n",
            "Test of the FC\n",
            "Win/lose count 4.0/2.0. Average score (2.0)\n",
            "Win/lose count 7.5/3.0. Average score (3.25)\n",
            "Win/lose count 3.0/2.0. Average score (2.5)\n",
            "Win/lose count 7.0/4.0. Average score (2.625)\n",
            "Win/lose count 11.0/2.0. Average score (3.9)\n",
            "Win/lose count 11.0/2.0. Average score (4.75)\n",
            "Win/lose count 8.0/2.0. Average score (4.928571428571429)\n",
            "Win/lose count 6.0/1.0. Average score (4.9375)\n",
            "Win/lose count 5.5/0. Average score (5.0)\n",
            "Win/lose count 12.0/3.0. Average score (5.4)\n",
            "Win/lose count 11.0/2.0. Average score (5.7272727272727275)\n",
            "Win/lose count 6.0/1.0. Average score (5.666666666666667)\n",
            "Win/lose count 8.5/3.0. Average score (5.653846153846154)\n",
            "Win/lose count 6.5/3.0. Average score (5.5)\n",
            "Win/lose count 13.0/5.0. Average score (5.666666666666667)\n",
            "Final score: 5.666666666666667\n",
            "temperature is 0.6\n",
            "Test of the CNN\n",
            "Win/lose count 14.5/6.0. Average score (8.5)\n",
            "Win/lose count 13.0/2.0. Average score (9.75)\n",
            "Win/lose count 14.5/2.0. Average score (10.666666666666666)\n",
            "Win/lose count 10.0/0. Average score (10.5)\n",
            "Win/lose count 8.0/3.0. Average score (9.4)\n",
            "Win/lose count 9.5/5.0. Average score (8.583333333333334)\n",
            "Win/lose count 14.0/2.0. Average score (9.071428571428571)\n",
            "Win/lose count 10.0/1.0. Average score (9.0625)\n",
            "Win/lose count 13.0/4.0. Average score (9.055555555555555)\n",
            "Win/lose count 10.5/3.0. Average score (8.9)\n",
            "Win/lose count 11.0/6.0. Average score (8.545454545454545)\n",
            "Win/lose count 12.5/1.0. Average score (8.791666666666666)\n",
            "Win/lose count 10.5/3.0. Average score (8.692307692307692)\n",
            "Win/lose count 16.5/1.0. Average score (9.178571428571429)\n",
            "Win/lose count 11.5/1.0. Average score (9.266666666666667)\n",
            "Final score: 9.266666666666667\n",
            "Test of the FC\n",
            "Win/lose count 14.5/3.0. Average score (11.5)\n",
            "Win/lose count 11.0/8.0. Average score (7.25)\n",
            "Win/lose count 7.5/2.0. Average score (6.666666666666667)\n",
            "Win/lose count 2.5/1.0. Average score (5.375)\n",
            "Win/lose count 16.5/5.0. Average score (6.6)\n",
            "Win/lose count 9.5/5.0. Average score (6.25)\n",
            "Win/lose count 6.5/1.0. Average score (6.142857142857143)\n",
            "Win/lose count 8.5/3.0. Average score (6.0625)\n",
            "Win/lose count 5.5/1.0. Average score (5.888888888888889)\n",
            "Win/lose count 9.5/0. Average score (6.25)\n",
            "Win/lose count 7.5/3.0. Average score (6.090909090909091)\n",
            "Win/lose count 15.0/2.0. Average score (6.666666666666667)\n",
            "Win/lose count 12.0/4.0. Average score (6.769230769230769)\n",
            "Win/lose count 4.5/5.0. Average score (6.25)\n",
            "Win/lose count 6.5/3.0. Average score (6.066666666666666)\n",
            "Final score: 6.066666666666666\n",
            "temperature is 0.7\n",
            "Test of the CNN\n",
            "Win/lose count 7.0/3.0. Average score (4.0)\n",
            "Win/lose count 20.5/6.0. Average score (9.25)\n",
            "Win/lose count 12.5/5.0. Average score (8.666666666666666)\n",
            "Win/lose count 9.5/0. Average score (8.875)\n",
            "Win/lose count 5.5/2.0. Average score (7.8)\n",
            "Win/lose count 9.5/1.0. Average score (7.916666666666667)\n",
            "Win/lose count 10.0/1.0. Average score (8.071428571428571)\n",
            "Win/lose count 4.5/1.0. Average score (7.5)\n",
            "Win/lose count 13.5/2.0. Average score (7.944444444444445)\n",
            "Win/lose count 13.0/2.0. Average score (8.25)\n",
            "Win/lose count 16.0/2.0. Average score (8.772727272727273)\n",
            "Win/lose count 7.5/2.0. Average score (8.5)\n",
            "Win/lose count 22.5/0. Average score (9.576923076923077)\n",
            "Win/lose count 12.5/3.0. Average score (9.571428571428571)\n",
            "Win/lose count 9.5/3.0. Average score (9.366666666666667)\n",
            "Final score: 9.366666666666667\n",
            "Test of the FC\n",
            "Win/lose count 14.0/0. Average score (14.0)\n",
            "Win/lose count 15.0/1.0. Average score (14.0)\n",
            "Win/lose count 7.5/2.0. Average score (11.166666666666666)\n",
            "Win/lose count 15.0/2.0. Average score (11.625)\n",
            "Win/lose count 16.5/7.0. Average score (11.2)\n",
            "Win/lose count 15.5/3.0. Average score (11.416666666666666)\n",
            "Win/lose count 10.5/1.0. Average score (11.142857142857142)\n",
            "Win/lose count 14.0/2.0. Average score (11.25)\n",
            "Win/lose count 12.0/5.0. Average score (10.777777777777779)\n",
            "Win/lose count 7.0/2.0. Average score (10.2)\n",
            "Win/lose count 6.5/3.0. Average score (9.590909090909092)\n",
            "Win/lose count 11.0/1.0. Average score (9.625)\n",
            "Win/lose count 4.0/0. Average score (9.192307692307692)\n",
            "Win/lose count 13.0/1.0. Average score (9.392857142857142)\n",
            "Win/lose count 11.5/4.0. Average score (9.266666666666667)\n",
            "Final score: 9.266666666666667\n",
            "temperature is 0.8\n",
            "Test of the CNN\n",
            "Win/lose count 21.0/3.0. Average score (18.0)\n",
            "Win/lose count 10.5/3.0. Average score (12.75)\n",
            "Win/lose count 25.0/2.0. Average score (16.166666666666668)\n",
            "Win/lose count 22.5/0. Average score (17.75)\n",
            "Win/lose count 10.5/2.0. Average score (15.9)\n",
            "Win/lose count 6.5/2.0. Average score (14.0)\n",
            "Win/lose count 21.5/6.0. Average score (14.214285714285714)\n",
            "Win/lose count 13.0/1.0. Average score (13.9375)\n",
            "Win/lose count 10.0/2.0. Average score (13.277777777777779)\n",
            "Win/lose count 7.5/3.0. Average score (12.4)\n",
            "Win/lose count 6.5/3.0. Average score (11.590909090909092)\n",
            "Win/lose count 11.0/3.0. Average score (11.291666666666666)\n",
            "Win/lose count 14.0/5.0. Average score (11.115384615384615)\n",
            "Win/lose count 13.0/4.0. Average score (10.964285714285714)\n",
            "Win/lose count 17.0/1.0. Average score (11.3)\n",
            "Final score: 11.3\n",
            "Test of the FC\n",
            "Win/lose count 15.0/6.0. Average score (9.0)\n",
            "Win/lose count 23.0/3.0. Average score (14.5)\n",
            "Win/lose count 13.0/3.0. Average score (13.0)\n",
            "Win/lose count 20.5/1.0. Average score (14.625)\n",
            "Win/lose count 16.5/1.0. Average score (14.8)\n",
            "Win/lose count 12.0/2.0. Average score (14.0)\n",
            "Win/lose count 26.0/2.0. Average score (15.428571428571429)\n",
            "Win/lose count 20.5/3.0. Average score (15.6875)\n",
            "Win/lose count 14.5/0. Average score (15.555555555555555)\n",
            "Win/lose count 12.0/3.0. Average score (14.9)\n",
            "Win/lose count 21.0/1.0. Average score (15.363636363636363)\n",
            "Win/lose count 11.0/2.0. Average score (14.833333333333334)\n",
            "Win/lose count 16.5/2.0. Average score (14.807692307692308)\n",
            "Win/lose count 18.5/1.0. Average score (15.0)\n",
            "Win/lose count 12.0/0. Average score (14.8)\n",
            "Final score: 14.8\n",
            "temperature is 0.9\n",
            "Test of the CNN\n",
            "Win/lose count 14.0/2.0. Average score (12.0)\n",
            "Win/lose count 31.0/1.0. Average score (21.0)\n",
            "Win/lose count 32.0/0. Average score (24.666666666666668)\n",
            "Win/lose count 22.0/1.0. Average score (23.75)\n",
            "Win/lose count 10.5/0. Average score (21.1)\n",
            "Win/lose count 11.0/1.0. Average score (19.25)\n",
            "Win/lose count 17.5/0. Average score (19.0)\n",
            "Win/lose count 24.0/1.0. Average score (19.5)\n",
            "Win/lose count 26.0/3.0. Average score (19.88888888888889)\n",
            "Win/lose count 12.5/0. Average score (19.15)\n",
            "Win/lose count 12.5/4.0. Average score (18.181818181818183)\n",
            "Win/lose count 13.0/0. Average score (17.75)\n",
            "Win/lose count 18.0/2.0. Average score (17.615384615384617)\n",
            "Win/lose count 15.0/0. Average score (17.428571428571427)\n",
            "Win/lose count 19.5/3.0. Average score (17.366666666666667)\n",
            "Final score: 17.366666666666667\n",
            "Test of the FC\n",
            "Win/lose count 18.0/2.0. Average score (16.0)\n",
            "Win/lose count 14.0/1.0. Average score (14.5)\n",
            "Win/lose count 17.5/1.0. Average score (15.166666666666666)\n",
            "Win/lose count 11.0/1.0. Average score (13.875)\n",
            "Win/lose count 25.0/1.0. Average score (15.9)\n",
            "Win/lose count 13.5/2.0. Average score (15.166666666666666)\n",
            "Win/lose count 16.5/1.0. Average score (15.214285714285714)\n",
            "Win/lose count 9.5/0. Average score (14.5)\n",
            "Win/lose count 16.0/0. Average score (14.666666666666666)\n",
            "Win/lose count 11.5/1.0. Average score (14.25)\n",
            "Win/lose count 18.5/0. Average score (14.636363636363637)\n",
            "Win/lose count 24.5/1.0. Average score (15.375)\n",
            "Win/lose count 13.5/1.0. Average score (15.153846153846153)\n",
            "Win/lose count 23.0/1.0. Average score (15.642857142857142)\n",
            "Win/lose count 22.5/0. Average score (16.1)\n",
            "Final score: 16.1\n"
          ],
          "name": "stdout"
        }
      ]
    },
    {
      "cell_type": "code",
      "metadata": {
        "colab_type": "code",
        "id": "WkZ6teCHVHcr",
        "colab": {
          "base_uri": "https://localhost:8080/",
          "height": 293
        },
        "outputId": "5b61f651-586a-4c3d-d173-f7cbee91e052"
      },
      "source": [
        "HTML(display_videos('cnn_test10.mp4'))"
      ],
      "execution_count": 72,
      "outputs": [
        {
          "output_type": "execute_result",
          "data": {
            "text/html": [
              "<video alt=\"test\" controls>\n",
              "                <source src=\"data:video/mp4;base64,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\" type=\"video/mp4\" />\n",
              "             </video>"
            ],
            "text/plain": [
              "<IPython.core.display.HTML object>"
            ]
          },
          "metadata": {
            "tags": []
          },
          "execution_count": 72
        }
      ]
    },
    {
      "cell_type": "code",
      "metadata": {
        "colab_type": "code",
        "id": "2ZBsP3uFVHcw",
        "colab": {
          "base_uri": "https://localhost:8080/",
          "height": 293
        },
        "outputId": "10e99965-d650-4c91-8a59-5724ec8f7f3b"
      },
      "source": [
        "HTML(display_videos('fc_test10.mp4'))"
      ],
      "execution_count": 73,
      "outputs": [
        {
          "output_type": "execute_result",
          "data": {
            "text/html": [
              "<video alt=\"test\" controls>\n",
              "                <source src=\"data:video/mp4;base64,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\" type=\"video/mp4\" />\n",
              "             </video>"
            ],
            "text/plain": [
              "<IPython.core.display.HTML object>"
            ]
          },
          "metadata": {
            "tags": []
          },
          "execution_count": 73
        }
      ]
    },
    {
      "cell_type": "markdown",
      "metadata": {
        "colab_type": "text",
        "id": "7oes3DgHVHc1"
      },
      "source": [
        "The CNN architectures seems to give better resutls. However, the variance in the results is very high and the performance not so great.\n",
        "\n",
        "We can observe that the algorithms don't explore the whole map and visit the same place very often (sometimes even oscillating between 2 positions). This can be explain by the fact that this method is a good solution to avoid decreasing the score. \n",
        "\n",
        "With an incresing temperature this phenomenon appears less and the score improves. \n"
      ]
    },
    {
      "cell_type": "markdown",
      "metadata": {
        "colab_type": "text",
        "id": "cZsjrSpSVHc2"
      },
      "source": [
        "***\n",
        "\n",
        "The algorithm tends to not explore the map which can be an issue. We propose two ideas in order to encourage exploration:\n",
        "1. Incorporating a decreasing $\\epsilon$-greedy exploration. You can use the method ```set_epsilon```\n",
        "2. Append via the environment a new state that describes if a cell has been visited or not\n",
        "\n",
        "***\n",
        "__Question 10__ Design a new ```train_explore``` function and environment class ```EnvironmentExploring``` to tackle the issue of exploration.\n",
        "\n"
      ]
    },
    {
      "cell_type": "code",
      "metadata": {
        "colab_type": "code",
        "id": "aMk1GPEpVHc4",
        "colab": {}
      },
      "source": [
        "def train_explore(agent,env,epoch,decay_epsilon=0.1,prefix='', verbose=1):\n",
        "    \"\"\" \n",
        "    This function train the agent with the env for a given number of epoch. The \n",
        "    random exploration paramater epsilon is decayed by a factor decay_epsilon at \n",
        "    each epoch\n",
        "    \"\"\"\n",
        "    # Number of won games\n",
        "    score = 0\n",
        "    loss = 0\n",
        "\n",
        "    for e in range(epoch):\n",
        "        # At each epoch, we restart to a fresh game and get the initial state\n",
        "        state = env.reset()\n",
        "        # This assumes that the games will terminate\n",
        "        game_over = False\n",
        "\n",
        "        win = 0\n",
        "        lose = 0\n",
        "        agent.set_epsilon(agent.epsilon * (1 - decay_epsilon))\n",
        "        while not game_over:\n",
        "            # The agent performs an action\n",
        "            action = agent.act(state)\n",
        "\n",
        "            # Apply an action to the environment, get the next state, the reward\n",
        "            # and if the games end\n",
        "            prev_state = state\n",
        "            state, reward, game_over = env.act(action, train = True)\n",
        "\n",
        "            # Update the counters\n",
        "            if reward > 0:\n",
        "                win = win + reward\n",
        "            if reward < 0:\n",
        "                lose = lose -reward\n",
        "\n",
        "            # Apply the reinforcement strategy\n",
        "            loss = agent.reinforce(prev_state, state,  action, reward, game_over)\n",
        "\n",
        "        # Save as a mp4\n",
        "        if e % 10 == 0:\n",
        "            env.draw(prefix+str(e))\n",
        "\n",
        "        # Update stats\n",
        "        score += win-lose\n",
        "        if verbose > 0:\n",
        "          print(\"Epoch {:03d}/{:03d} | Loss {:.4f} | Win/lose count {}/{} ({})\"\n",
        "                .format(e, epoch, loss, win, lose, win-lose))\n",
        "        agent.save(name_weights=prefix+'model.h5',name_model=prefix+'model.json')\n",
        "        \n",
        "class EnvironmentExploring(object):\n",
        "    def __init__(self, grid_size=10, max_time=500, temperature=0.1):\n",
        "        grid_size = grid_size+4\n",
        "        self.grid_size = grid_size\n",
        "        self.max_time = max_time\n",
        "        self.temperature = temperature\n",
        "\n",
        "        #board on which one plays\n",
        "        self.board = np.zeros((grid_size,grid_size))\n",
        "        self.position = np.zeros((grid_size,grid_size))\n",
        "        self.malus_position = np.zeros((grid_size, grid_size))\n",
        "\n",
        "        # coordinate of the cat\n",
        "        self.x = 0\n",
        "        self.y = 1\n",
        "\n",
        "        # self time\n",
        "        self.t = 0\n",
        "\n",
        "        self.scale=16\n",
        "\n",
        "        self.to_draw = np.zeros((max_time+2, grid_size*self.scale, grid_size*self.scale, 3))\n",
        "\n",
        "\n",
        "    def draw(self,e):\n",
        "        skvideo.io.vwrite(str(e) + '.mp4', self.to_draw)\n",
        "\n",
        "    def get_frame(self,t):\n",
        "        b = np.zeros((self.grid_size,self.grid_size,3))+128\n",
        "        b[self.board>0,0] = 256\n",
        "        b[self.board < 0, 2] = 256\n",
        "        b[self.x,self.y,:]=256\n",
        "        b[-2:,:,:]=0\n",
        "        b[:,-2:,:]=0\n",
        "        b[:2,:,:]=0\n",
        "        b[:,:2,:]=0\n",
        "        \n",
        "        b =  cv2.resize(b, None, fx=self.scale, fy=self.scale, interpolation=cv2.INTER_NEAREST)\n",
        "\n",
        "        self.to_draw[t,:,:,:]=b\n",
        "\n",
        "\n",
        "    def act(self, action, train=False):\n",
        "        \"\"\"This function returns the new state, reward and decides if the\n",
        "        game ends.\"\"\"\n",
        "\n",
        "        self.get_frame(int(self.t))\n",
        "\n",
        "        self.position = np.zeros((self.grid_size, self.grid_size))\n",
        "\n",
        "        self.position[0:2,:]= -1\n",
        "        self.position[:,0:2] = -1\n",
        "        self.position[-2:, :] = -1\n",
        "        self.position[-2:, :] = -1\n",
        "\n",
        "        self.position[self.x, self.y] = 1\n",
        "        if action == 0:\n",
        "            if self.x == self.grid_size-3:\n",
        "                self.x = self.x-1\n",
        "            else:\n",
        "                self.x = self.x + 1\n",
        "        elif action == 1:\n",
        "            if self.x == 2:\n",
        "                self.x = self.x+1\n",
        "            else:\n",
        "                self.x = self.x-1\n",
        "        elif action == 2:\n",
        "            if self.y == self.grid_size - 3:\n",
        "                self.y = self.y - 1\n",
        "            else:\n",
        "                self.y = self.y + 1\n",
        "        elif action == 3:\n",
        "            if self.y == 2:\n",
        "                self.y = self.y + 1\n",
        "            else:\n",
        "                self.y = self.y - 1\n",
        "        else:\n",
        "            RuntimeError('Error: action not recognized')\n",
        "        reward = 0\n",
        "        if train:\n",
        "            reward = -self.malus_position[self.x, self.y]\n",
        "        self.malus_position[self.x, self.y] = 0.3\n",
        "\n",
        "        self.t = self.t + 1\n",
        "        reward += self.board[self.x, self.y]\n",
        "        self.board[self.x, self.y] = 0\n",
        "        game_over = self.t > self.max_time\n",
        "\n",
        "        state = np.concatenate((self.malus_position.reshape(self.grid_size, self.grid_size,1),\n",
        "                                self.board.reshape(self.grid_size, self.grid_size,1),\n",
        "                                self.position.reshape(self.grid_size, self.grid_size,1)),axis=2)\n",
        "\n",
        "        state = state[self.x-2:self.x+3,self.y-2:self.y+3,:]\n",
        "\n",
        "        return state, reward, game_over\n",
        "\n",
        "    def reset(self):\n",
        "        \"\"\"This function resets the game and returns the initial state\"\"\"\n",
        "\n",
        "        self.x = np.random.randint(3, self.grid_size-3, size=1)[0]\n",
        "        self.y = np.random.randint(3, self.grid_size-3, size=1)[0]\n",
        "\n",
        "\n",
        "        bonus = 0.5*np.random.binomial(1,self.temperature,size=self.grid_size**2)\n",
        "        bonus = bonus.reshape(self.grid_size,self.grid_size)\n",
        "\n",
        "        malus = -1.0*np.random.binomial(1,self.temperature,size=self.grid_size**2)\n",
        "        malus = malus.reshape(self.grid_size, self.grid_size)\n",
        "\n",
        "        self.to_draw = np.zeros((self.max_time+2, self.grid_size*self.scale, self.grid_size*self.scale, 3))\n",
        "\n",
        "\n",
        "        malus[bonus>0]=0\n",
        "\n",
        "        self.board = bonus + malus\n",
        "\n",
        "        self.position = np.zeros((self.grid_size, self.grid_size))\n",
        "        self.position[0:2,:]= -1\n",
        "        self.position[:,0:2] = -1\n",
        "        self.position[-2:, :] = -1\n",
        "        self.position[-2:, :] = -1\n",
        "        self.board[self.x,self.y] = 0\n",
        "        self.t = 0\n",
        "        self.malus_position = np.zeros((self.grid_size, self.grid_size))\n",
        "\n",
        "        state = np.concatenate((self.malus_position.reshape(self.grid_size, self.grid_size,1),\n",
        "                                self.board.reshape(self.grid_size, self.grid_size,1),\n",
        "                                self.position.reshape(self.grid_size, self.grid_size,1)),axis=2)\n",
        "\n",
        "        state = state[self.x - 2:self.x + 3, self.y - 2:self.y + 3, :]\n",
        "        return state\n"
      ],
      "execution_count": 0,
      "outputs": []
    },
    {
      "cell_type": "code",
      "metadata": {
        "colab_type": "code",
        "id": "fl8krTPJVHdB",
        "outputId": "34c41225-a84d-4fab-f3fa-3b65c706f213",
        "colab": {
          "base_uri": "https://localhost:8080/",
          "height": 1000
        }
      },
      "source": [
        "# Training\n",
        "epochs_train = 100\n",
        "env = EnvironmentExploring(grid_size=size, max_time=T, temperature=0.3)\n",
        "agent = DQN_CNN(size, n_blocks=2, filter_base = 32, lr=0.1, epsilon = 0.9, memory_size=2000, batch_size = 32, n_state=3)\n",
        "train_explore(agent, env, epochs_train, prefix='cnn_train_explore', decay_epsilon=0.05)\n",
        "HTML(display_videos('cnn_train_explore10.mp4'))"
      ],
      "execution_count": 56,
      "outputs": [
        {
          "output_type": "stream",
          "text": [
            "Epoch 000/100 | Loss 0.0154 | Win/lose count 8.5/53.29999999999985 (-44.79999999999985)\n",
            "Epoch 001/100 | Loss 0.0172 | Win/lose count 7.0/54.899999999999835 (-47.899999999999835)\n",
            "Epoch 002/100 | Loss 0.0051 | Win/lose count 14.5/52.099999999999866 (-37.599999999999866)\n",
            "Epoch 003/100 | Loss 0.0184 | Win/lose count 13.5/53.79999999999985 (-40.29999999999985)\n",
            "Epoch 004/100 | Loss 0.0112 | Win/lose count 10.5/52.69999999999987 (-42.19999999999987)\n",
            "Epoch 005/100 | Loss 0.0124 | Win/lose count 11.0/53.79999999999985 (-42.79999999999985)\n",
            "Epoch 006/100 | Loss 0.0133 | Win/lose count 10.0/53.299999999999855 (-43.299999999999855)\n",
            "Epoch 007/100 | Loss 0.0057 | Win/lose count 10.0/58.59999999999989 (-48.59999999999989)\n",
            "Epoch 008/100 | Loss 0.0124 | Win/lose count 13.0/52.19999999999989 (-39.19999999999989)\n",
            "Epoch 009/100 | Loss 0.0593 | Win/lose count 16.5/49.99999999999994 (-33.49999999999994)\n",
            "Epoch 010/100 | Loss 0.0190 | Win/lose count 9.5/54.19999999999987 (-44.69999999999987)\n",
            "Epoch 011/100 | Loss 0.0243 | Win/lose count 14.0/52.79999999999988 (-38.79999999999988)\n",
            "Epoch 012/100 | Loss 0.0124 | Win/lose count 14.0/47.79999999999993 (-33.79999999999993)\n",
            "Epoch 013/100 | Loss 0.0607 | Win/lose count 20.5/42.799999999999955 (-22.299999999999955)\n",
            "Epoch 014/100 | Loss 0.0160 | Win/lose count 17.0/39.39999999999997 (-22.39999999999997)\n",
            "Epoch 015/100 | Loss 0.0189 | Win/lose count 22.0/41.39999999999996 (-19.399999999999963)\n",
            "Epoch 016/100 | Loss 0.0237 | Win/lose count 21.0/39.29999999999997 (-18.29999999999997)\n",
            "Epoch 017/100 | Loss 0.0261 | Win/lose count 19.0/48.59999999999998 (-29.59999999999998)\n",
            "Epoch 018/100 | Loss 0.0693 | Win/lose count 18.5/44.799999999999926 (-26.299999999999926)\n",
            "Epoch 019/100 | Loss 0.0383 | Win/lose count 17.0/39.49999999999998 (-22.49999999999998)\n",
            "Epoch 020/100 | Loss 0.0472 | Win/lose count 20.0/40.69999999999997 (-20.699999999999967)\n",
            "Epoch 021/100 | Loss 0.0476 | Win/lose count 19.5/48.199999999999946 (-28.699999999999946)\n",
            "Epoch 022/100 | Loss 0.0509 | Win/lose count 20.0/38.39999999999997 (-18.39999999999997)\n",
            "Epoch 023/100 | Loss 0.0514 | Win/lose count 18.0/40.799999999999976 (-22.799999999999976)\n",
            "Epoch 024/100 | Loss 0.0841 | Win/lose count 25.5/38.59999999999999 (-13.099999999999987)\n",
            "Epoch 025/100 | Loss 0.0346 | Win/lose count 19.5/46.699999999999946 (-27.199999999999946)\n",
            "Epoch 026/100 | Loss 0.0314 | Win/lose count 22.5/40.399999999999956 (-17.899999999999956)\n",
            "Epoch 027/100 | Loss 0.0556 | Win/lose count 25.0/39.69999999999997 (-14.699999999999967)\n",
            "Epoch 028/100 | Loss 0.0730 | Win/lose count 22.5/33.70000000000002 (-11.200000000000017)\n",
            "Epoch 029/100 | Loss 0.0617 | Win/lose count 22.5/36.29999999999999 (-13.79999999999999)\n",
            "Epoch 030/100 | Loss 0.0579 | Win/lose count 19.0/39.6 (-20.6)\n",
            "Epoch 031/100 | Loss 0.0569 | Win/lose count 23.0/39.99999999999996 (-16.999999999999957)\n",
            "Epoch 032/100 | Loss 0.1114 | Win/lose count 23.5/42.69999999999996 (-19.19999999999996)\n",
            "Epoch 033/100 | Loss 0.0757 | Win/lose count 23.0/38.39999999999998 (-15.399999999999977)\n",
            "Epoch 034/100 | Loss 0.0704 | Win/lose count 19.0/38.09999999999997 (-19.099999999999973)\n",
            "Epoch 035/100 | Loss 0.0839 | Win/lose count 22.5/32.100000000000044 (-9.600000000000044)\n",
            "Epoch 036/100 | Loss 0.0620 | Win/lose count 24.5/33.700000000000024 (-9.200000000000024)\n",
            "Epoch 037/100 | Loss 0.0633 | Win/lose count 25.0/39.3 (-14.299999999999997)\n",
            "Epoch 038/100 | Loss 0.0405 | Win/lose count 27.5/34.400000000000034 (-6.900000000000034)\n",
            "Epoch 039/100 | Loss 0.0468 | Win/lose count 21.0/40.89999999999997 (-19.89999999999997)\n",
            "Epoch 040/100 | Loss 0.0474 | Win/lose count 19.0/47.99999999999996 (-28.999999999999957)\n",
            "Epoch 041/100 | Loss 0.0742 | Win/lose count 24.0/35.20000000000002 (-11.200000000000017)\n",
            "Epoch 042/100 | Loss 0.0573 | Win/lose count 23.0/36.8 (-13.799999999999997)\n",
            "Epoch 043/100 | Loss 0.0483 | Win/lose count 22.5/40.599999999999966 (-18.099999999999966)\n",
            "Epoch 044/100 | Loss 0.0798 | Win/lose count 27.0/37.20000000000002 (-10.200000000000017)\n",
            "Epoch 045/100 | Loss 0.1109 | Win/lose count 22.5/35.60000000000001 (-13.100000000000009)\n",
            "Epoch 046/100 | Loss 0.0655 | Win/lose count 10.5/46.79999999999994 (-36.29999999999994)\n",
            "Epoch 047/100 | Loss 0.2198 | Win/lose count 23.0/36.89999999999999 (-13.899999999999991)\n",
            "Epoch 048/100 | Loss 0.0680 | Win/lose count 18.5/42.59999999999994 (-24.099999999999937)\n",
            "Epoch 049/100 | Loss 0.1029 | Win/lose count 25.5/39.900000000000006 (-14.400000000000006)\n",
            "Epoch 050/100 | Loss 0.0603 | Win/lose count 21.5/37.89999999999999 (-16.39999999999999)\n",
            "Epoch 051/100 | Loss 0.1052 | Win/lose count 22.5/39.299999999999976 (-16.799999999999976)\n",
            "Epoch 052/100 | Loss 0.0857 | Win/lose count 24.5/36.6 (-12.100000000000001)\n",
            "Epoch 053/100 | Loss 0.0436 | Win/lose count 26.0/37.59999999999998 (-11.59999999999998)\n",
            "Epoch 054/100 | Loss 0.0678 | Win/lose count 30.0/34.20000000000002 (-4.200000000000017)\n",
            "Epoch 055/100 | Loss 0.0544 | Win/lose count 19.5/40.399999999999956 (-20.899999999999956)\n",
            "Epoch 056/100 | Loss 0.0729 | Win/lose count 20.0/48.39999999999989 (-28.399999999999892)\n",
            "Epoch 057/100 | Loss 0.0630 | Win/lose count 23.0/41.89999999999999 (-18.89999999999999)\n",
            "Epoch 058/100 | Loss 0.0529 | Win/lose count 20.5/41.09999999999996 (-20.59999999999996)\n",
            "Epoch 059/100 | Loss 0.1264 | Win/lose count 24.5/36.30000000000001 (-11.800000000000011)\n",
            "Epoch 060/100 | Loss 0.0887 | Win/lose count 21.0/39.49999999999998 (-18.49999999999998)\n",
            "Epoch 061/100 | Loss 0.1578 | Win/lose count 21.0/37.89999999999999 (-16.89999999999999)\n",
            "Epoch 062/100 | Loss 0.1002 | Win/lose count 19.5/39.79999999999998 (-20.299999999999983)\n",
            "Epoch 063/100 | Loss 0.0740 | Win/lose count 24.0/37.899999999999984 (-13.899999999999984)\n",
            "Epoch 064/100 | Loss 0.0599 | Win/lose count 16.5/46.39999999999997 (-29.89999999999997)\n",
            "Epoch 065/100 | Loss 0.1359 | Win/lose count 25.5/34.90000000000002 (-9.40000000000002)\n",
            "Epoch 066/100 | Loss 0.0905 | Win/lose count 21.0/39.30000000000003 (-18.300000000000033)\n",
            "Epoch 067/100 | Loss 0.0897 | Win/lose count 26.5/37.699999999999974 (-11.199999999999974)\n",
            "Epoch 068/100 | Loss 0.1424 | Win/lose count 22.0/36.8 (-14.799999999999997)\n",
            "Epoch 069/100 | Loss 0.0697 | Win/lose count 20.5/39.69999999999999 (-19.19999999999999)\n",
            "Epoch 070/100 | Loss 0.0512 | Win/lose count 22.0/43.69999999999996 (-21.69999999999996)\n",
            "Epoch 071/100 | Loss 0.1018 | Win/lose count 21.5/42.899999999999956 (-21.399999999999956)\n",
            "Epoch 072/100 | Loss 0.0893 | Win/lose count 16.0/45.29999999999992 (-29.29999999999992)\n",
            "Epoch 073/100 | Loss 0.0928 | Win/lose count 18.5/37.3 (-18.799999999999997)\n",
            "Epoch 074/100 | Loss 0.1049 | Win/lose count 16.5/46.79999999999995 (-30.299999999999947)\n",
            "Epoch 075/100 | Loss 0.1346 | Win/lose count 15.5/46.19999999999993 (-30.699999999999932)\n",
            "Epoch 076/100 | Loss 0.1154 | Win/lose count 16.5/47.7999999999999 (-31.299999999999898)\n",
            "Epoch 077/100 | Loss 0.0647 | Win/lose count 22.5/36.8 (-14.299999999999997)\n",
            "Epoch 078/100 | Loss 0.0835 | Win/lose count 22.5/39.3 (-16.799999999999997)\n",
            "Epoch 079/100 | Loss 0.1196 | Win/lose count 19.5/45.19999999999994 (-25.69999999999994)\n",
            "Epoch 080/100 | Loss 0.1126 | Win/lose count 23.0/41.499999999999964 (-18.499999999999964)\n",
            "Epoch 081/100 | Loss 0.0728 | Win/lose count 17.5/51.79999999999984 (-34.29999999999984)\n",
            "Epoch 082/100 | Loss 0.0756 | Win/lose count 23.5/42.099999999999994 (-18.599999999999994)\n",
            "Epoch 083/100 | Loss 0.1119 | Win/lose count 24.0/41.19999999999999 (-17.19999999999999)\n",
            "Epoch 084/100 | Loss 0.1132 | Win/lose count 20.0/40.80000000000001 (-20.80000000000001)\n",
            "Epoch 085/100 | Loss 0.0841 | Win/lose count 19.0/45.39999999999993 (-26.399999999999928)\n",
            "Epoch 086/100 | Loss 0.0908 | Win/lose count 26.0/42.29999999999999 (-16.29999999999999)\n",
            "Epoch 087/100 | Loss 0.1176 | Win/lose count 24.0/39.59999999999996 (-15.599999999999959)\n",
            "Epoch 088/100 | Loss 0.0767 | Win/lose count 26.0/38.199999999999974 (-12.199999999999974)\n",
            "Epoch 089/100 | Loss 0.1221 | Win/lose count 24.0/39.29999999999998 (-15.299999999999983)\n",
            "Epoch 090/100 | Loss 0.1456 | Win/lose count 17.5/45.399999999999984 (-27.899999999999984)\n",
            "Epoch 091/100 | Loss 0.1113 | Win/lose count 24.5/40.29999999999998 (-15.799999999999983)\n",
            "Epoch 092/100 | Loss 0.1644 | Win/lose count 11.0/50.799999999999876 (-39.799999999999876)\n",
            "Epoch 093/100 | Loss 0.1236 | Win/lose count 26.0/36.2 (-10.200000000000003)\n",
            "Epoch 094/100 | Loss 0.1202 | Win/lose count 23.0/39.69999999999999 (-16.69999999999999)\n",
            "Epoch 095/100 | Loss 0.0727 | Win/lose count 24.0/40.19999999999997 (-16.199999999999967)\n",
            "Epoch 096/100 | Loss 0.2976 | Win/lose count 20.5/38.099999999999994 (-17.599999999999994)\n",
            "Epoch 097/100 | Loss 0.0968 | Win/lose count 15.5/43.699999999999946 (-28.199999999999946)\n",
            "Epoch 098/100 | Loss 0.1002 | Win/lose count 23.0/45.099999999999916 (-22.099999999999916)\n",
            "Epoch 099/100 | Loss 0.1000 | Win/lose count 23.0/38.89999999999997 (-15.89999999999997)\n"
          ],
          "name": "stdout"
        },
        {
          "output_type": "execute_result",
          "data": {
            "text/html": [
              "<video alt=\"test\" controls>\n",
              "                <source src=\"data:video/mp4;base64,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\" type=\"video/mp4\" />\n",
              "             </video>"
            ],
            "text/plain": [
              "<IPython.core.display.HTML object>"
            ]
          },
          "metadata": {
            "tags": []
          },
          "execution_count": 56
        }
      ]
    },
    {
      "cell_type": "code",
      "metadata": {
        "colab_type": "code",
        "id": "ZMqyZyh7VHdF",
        "colab": {
          "base_uri": "https://localhost:8080/",
          "height": 480
        },
        "outputId": "149442d3-46fa-4cea-ccef-bf39e221d0ae"
      },
      "source": [
        "# Evaluation\n",
        "epochs_test = 10\n",
        "test(agent,env,epochs_test,prefix='cnn_test_explore')\n",
        "HTML(display_videos('cnn_test_explore10.mp4'))"
      ],
      "execution_count": 58,
      "outputs": [
        {
          "output_type": "stream",
          "text": [
            "Win/lose count 23.0/5.0. Average score (18.0)\n",
            "Win/lose count 14.5/6.0. Average score (13.25)\n",
            "Win/lose count 16.5/9.0. Average score (11.333333333333334)\n",
            "Win/lose count 4.5/2.0. Average score (9.125)\n",
            "Win/lose count 19.5/6.0. Average score (10.0)\n",
            "Win/lose count 24.0/11.0. Average score (10.5)\n",
            "Win/lose count 23.0/10.0. Average score (10.857142857142858)\n",
            "Win/lose count 16.0/2.0. Average score (11.25)\n",
            "Win/lose count 18.0/9.0. Average score (11.0)\n",
            "Win/lose count 8.0/4.0. Average score (10.3)\n",
            "Final score: 10.3\n"
          ],
          "name": "stdout"
        },
        {
          "output_type": "execute_result",
          "data": {
            "text/html": [
              "<video alt=\"test\" controls>\n",
              "                <source src=\"data:video/mp4;base64,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\" type=\"video/mp4\" />\n",
              "             </video>"
            ],
            "text/plain": [
              "<IPython.core.display.HTML object>"
            ]
          },
          "metadata": {
            "tags": []
          },
          "execution_count": 58
        }
      ]
    },
    {
      "cell_type": "markdown",
      "metadata": {
        "id": "fgKN9DgkQPvg",
        "colab_type": "text"
      },
      "source": [
        "The exploring strategy seems to improve the performance of the agent which ends up being blocked only when cheese cells are far away. \n"
      ]
    },
    {
      "cell_type": "markdown",
      "metadata": {
        "colab_type": "text",
        "id": "sstCRKyHVHdM"
      },
      "source": [
        "***\n",
        "***\n",
        "__BONUS question__ Use the expert DQN from the previous question to generate some winning games. Train a model that mimicks its behavior. Compare the performances."
      ]
    },
    {
      "cell_type": "markdown",
      "metadata": {
        "colab_type": "text",
        "id": "9uCEA2mVVHdO"
      },
      "source": [
        "***"
      ]
    },
    {
      "cell_type": "code",
      "metadata": {
        "id": "WD0Cqj-o_cgL",
        "colab_type": "code",
        "colab": {}
      },
      "source": [
        "class DQN_mime(Agent):\n",
        "    def __init__(self, grid_size,  epsilon = 0.1, memory_size=100, batch_size = 16,n_state=2):\n",
        "        super(DQN_mime, self).__init__(epsilon = epsilon)\n",
        "\n",
        "        # Discount for Q learning\n",
        "        self.discount = 0.99\n",
        "        \n",
        "        self.grid_size = grid_size\n",
        "        \n",
        "        # number of state\n",
        "        self.n_state = n_state\n",
        "\n",
        "        # Memory\n",
        "        self.memory = Memory(memory_size)\n",
        "        \n",
        "        # Batch size when learning\n",
        "        self.batch_size = batch_size\n",
        "\n",
        "    def learned_act(self, s):\n",
        "        return np.argmax(self.model.predict(s.reshape([1,s.shape[0],s.shape[1],s.shape[2]]))[0,:])\n",
        "\n",
        "    def reinforce(self, s_, a_):\n",
        "        # Two steps: first memorize the states, second learn from the pool\n",
        "        self.memory.remember([s_, a_]) # we only need the state and the action \n",
        "\n",
        "        input_states = np.zeros((self.batch_size, 5,5,self.n_state))\n",
        "        target_q = np.zeros((self.batch_size, 4))\n",
        "        \n",
        "        for i in range(self.batch_size):\n",
        "            s_, a_  = self.memory.random_access()\n",
        "            input_states[i] = s_\n",
        "            target_q[i,a_] = 1\n",
        "  \n",
        "        l = self.model.train_on_batch(input_states, target_q)\n",
        "\n",
        "        return l\n",
        "\n",
        "    def save(self,name_weights='model.h5',name_model='model.json'):\n",
        "        self.model.save_weights(name_weights, overwrite=True)\n",
        "        with open(name_model, \"w\") as outfile:\n",
        "            json.dump(self.model.to_json(), outfile)\n",
        "            \n",
        "    def load(self,name_weights='model.h5',name_model='model.json'):\n",
        "        with open(name_model, \"r\") as jfile:\n",
        "            model = model_from_json(json.load(jfile))\n",
        "        model.load_weights(name_weights)\n",
        "        model.compile(\"sgd\", \"mse\")\n",
        "        self.model = model\n",
        "\n",
        "\n",
        "class DQN_CNN_mime(DQN_mime):\n",
        "    def __init__(self, *args,n_blocks=2, filter_base=32, lr=0.1,**kwargs):\n",
        "        super(DQN_CNN_mime, self).__init__(*args,**kwargs)\n",
        "        \n",
        "        input_model = keras.layers.Input(shape=(5, 5, self.n_state), name=\"input\")\n",
        "        x = input_model\n",
        "        for n_block in range(n_blocks):\n",
        "            x = Conv2D((2**n_block) * filter_base, 3, padding=\"same\", activation=\"relu\", name=\"conv{}_1\".format(n_block))(x)\n",
        "            x = Conv2D((2**n_block) * filter_base, 3, padding=\"same\", activation=\"relu\", name=\"conv{}_2\".format(n_block))(x)\n",
        "            x = MaxPooling2D(name=\"pooled_{}\".format(n_block), strides=1)(x) # we are not downscaling \n",
        "        x = keras.layers.Flatten(name=\"flatten\")(x)\n",
        "        x = Dense(4, name=\"output\")(x)\n",
        "        model = keras.models.Model(input_model, x)\n",
        "\n",
        "        model.compile(sgd(lr=lr, decay=1e-4, momentum=0.0), \"mse\")\n",
        "        self.model = model\n"
      ],
      "execution_count": 0,
      "outputs": []
    },
    {
      "cell_type": "code",
      "metadata": {
        "id": "noXW9aqi8d2_",
        "colab_type": "code",
        "colab": {}
      },
      "source": [
        "def train_mimick(agent,env,epoch,expert,prefix='', verbose=1):\n",
        "    # Number of won games\n",
        "    score = 0\n",
        "    loss = 0\n",
        "\n",
        "    for e in range(epoch):\n",
        "        # At each epoch, we restart to a fresh game and get the initial state\n",
        "        state = env.reset()\n",
        "        # This assumes that the games will terminate\n",
        "        game_over = False\n",
        "\n",
        "        win = 0\n",
        "        lose = 0\n",
        "\n",
        "        while not game_over:\n",
        "            # The agent performs an action\n",
        "            action = expert.act(state)\n",
        "            \n",
        "            # Apply an action to the environment, get the next state, the reward\n",
        "            # and if the games end\n",
        "            prev_state = state\n",
        "            state, reward, game_over = env.act(action)\n",
        "\n",
        "            # Update the counters\n",
        "            if reward > 0:\n",
        "                win = win + reward\n",
        "            if reward < 0:\n",
        "                lose = lose -reward\n",
        "\n",
        "            # Apply the reinforcement strategy\n",
        "            loss = agent.reinforce(prev_state,action)\n",
        "\n",
        "        # Save as a mp4\n",
        "        if e % 10 == 0:\n",
        "            env.draw(prefix+str(e))\n",
        "\n",
        "        # Update stats\n",
        "        score += win-lose\n",
        "        if verbose > 0:\n",
        "          print(\"Epoch {:03d}/{:03d} | Loss {:.4f} | Win/lose count {}/{} ({})\"\n",
        "                .format(e, epoch, loss, win, lose, win-lose))\n",
        "        agent.save(name_weights=prefix+'model.h5',name_model=prefix+'model.json')"
      ],
      "execution_count": 0,
      "outputs": []
    },
    {
      "cell_type": "code",
      "metadata": {
        "id": "-OP0RayJNXzS",
        "colab_type": "code",
        "colab": {
          "base_uri": "https://localhost:8080/",
          "height": 1000
        },
        "outputId": "79d62a1b-5730-46a3-86d3-5db45b9ccd0b"
      },
      "source": [
        "epochs_train = 75 \n",
        "env = EnvironmentExploring(grid_size=size, max_time=T, temperature=0.3)\n",
        "mime = DQN_CNN_mime(size, n_blocks=1, filter_base = 32, lr=0.1, epsilon = 0.5, memory_size=2000, batch_size = 32, n_state=3)\n",
        "train_mimick(mime, env, epochs_train, agent)\n",
        "HTML(display_videos('cnn_train_explore10.mp4'))"
      ],
      "execution_count": 59,
      "outputs": [
        {
          "output_type": "stream",
          "text": [
            "Epoch 000/075 | Loss 0.0046 | Win/lose count 3.5/3.0 (0.5)\n",
            "Epoch 001/075 | Loss 0.0075 | Win/lose count 4.0/3.0 (1.0)\n",
            "Epoch 002/075 | Loss 0.0053 | Win/lose count 7.5/2.0 (5.5)\n",
            "Epoch 003/075 | Loss 0.0251 | Win/lose count 16.5/11.0 (5.5)\n",
            "Epoch 004/075 | Loss 0.0295 | Win/lose count 18.0/9.0 (9.0)\n",
            "Epoch 005/075 | Loss 0.0134 | Win/lose count 18.0/7.0 (11.0)\n",
            "Epoch 006/075 | Loss 0.0211 | Win/lose count 8.5/3.0 (5.5)\n",
            "Epoch 007/075 | Loss 0.0188 | Win/lose count 9.5/2.0 (7.5)\n",
            "Epoch 008/075 | Loss 0.0103 | Win/lose count 13.5/1.0 (12.5)\n",
            "Epoch 009/075 | Loss 0.0323 | Win/lose count 4.5/0 (4.5)\n",
            "Epoch 010/075 | Loss 0.0253 | Win/lose count 14.0/7.0 (7.0)\n",
            "Epoch 011/075 | Loss 0.0096 | Win/lose count 5.5/2.0 (3.5)\n",
            "Epoch 012/075 | Loss 0.0248 | Win/lose count 19.0/7.0 (12.0)\n",
            "Epoch 013/075 | Loss 0.0317 | Win/lose count 23.0/8.0 (15.0)\n",
            "Epoch 014/075 | Loss 0.0191 | Win/lose count 6.5/1.0 (5.5)\n",
            "Epoch 015/075 | Loss 0.0380 | Win/lose count 13.5/6.0 (7.5)\n",
            "Epoch 016/075 | Loss 0.0325 | Win/lose count 9.5/4.0 (5.5)\n",
            "Epoch 017/075 | Loss 0.0304 | Win/lose count 12.5/3.0 (9.5)\n",
            "Epoch 018/075 | Loss 0.0316 | Win/lose count 17.5/8.0 (9.5)\n",
            "Epoch 019/075 | Loss 0.0281 | Win/lose count 13.0/4.0 (9.0)\n",
            "Epoch 020/075 | Loss 0.0363 | Win/lose count 12.5/9.0 (3.5)\n",
            "Epoch 021/075 | Loss 0.0336 | Win/lose count 2.0/0 (2.0)\n",
            "Epoch 022/075 | Loss 0.0435 | Win/lose count 4.5/1.0 (3.5)\n",
            "Epoch 023/075 | Loss 0.0246 | Win/lose count 17.0/6.0 (11.0)\n",
            "Epoch 024/075 | Loss 0.0261 | Win/lose count 13.5/5.0 (8.5)\n",
            "Epoch 025/075 | Loss 0.0102 | Win/lose count 10.0/5.0 (5.0)\n",
            "Epoch 026/075 | Loss 0.0259 | Win/lose count 12.5/4.0 (8.5)\n",
            "Epoch 027/075 | Loss 0.0361 | Win/lose count 15.5/4.0 (11.5)\n",
            "Epoch 028/075 | Loss 0.0161 | Win/lose count 13.0/7.0 (6.0)\n",
            "Epoch 029/075 | Loss 0.0321 | Win/lose count 18.0/5.0 (13.0)\n",
            "Epoch 030/075 | Loss 0.0345 | Win/lose count 15.0/4.0 (11.0)\n",
            "Epoch 031/075 | Loss 0.0513 | Win/lose count 11.5/4.0 (7.5)\n",
            "Epoch 032/075 | Loss 0.0403 | Win/lose count 15.0/7.0 (8.0)\n",
            "Epoch 033/075 | Loss 0.0388 | Win/lose count 9.5/3.0 (6.5)\n",
            "Epoch 034/075 | Loss 0.0479 | Win/lose count 9.0/1.0 (8.0)\n",
            "Epoch 035/075 | Loss 0.0206 | Win/lose count 2.5/0 (2.5)\n",
            "Epoch 036/075 | Loss 0.0195 | Win/lose count 5.0/2.0 (3.0)\n",
            "Epoch 037/075 | Loss 0.0214 | Win/lose count 14.0/6.0 (8.0)\n",
            "Epoch 038/075 | Loss 0.0113 | Win/lose count 14.5/9.0 (5.5)\n",
            "Epoch 039/075 | Loss 0.0265 | Win/lose count 9.0/2.0 (7.0)\n",
            "Epoch 040/075 | Loss 0.0329 | Win/lose count 16.0/8.0 (8.0)\n",
            "Epoch 041/075 | Loss 0.0096 | Win/lose count 1.0/0 (1.0)\n",
            "Epoch 042/075 | Loss 0.0266 | Win/lose count 20.5/5.0 (15.5)\n",
            "Epoch 043/075 | Loss 0.0202 | Win/lose count 9.0/2.0 (7.0)\n",
            "Epoch 044/075 | Loss 0.0279 | Win/lose count 13.5/9.0 (4.5)\n",
            "Epoch 045/075 | Loss 0.0167 | Win/lose count 19.5/5.0 (14.5)\n",
            "Epoch 046/075 | Loss 0.0387 | Win/lose count 13.0/5.0 (8.0)\n",
            "Epoch 047/075 | Loss 0.0159 | Win/lose count 7.0/2.0 (5.0)\n",
            "Epoch 048/075 | Loss 0.0287 | Win/lose count 8.0/3.0 (5.0)\n",
            "Epoch 049/075 | Loss 0.0152 | Win/lose count 1.0/1.0 (0.0)\n",
            "Epoch 050/075 | Loss 0.0373 | Win/lose count 20.5/3.0 (17.5)\n",
            "Epoch 051/075 | Loss 0.0232 | Win/lose count 15.0/4.0 (11.0)\n",
            "Epoch 052/075 | Loss 0.0209 | Win/lose count 22.0/3.0 (19.0)\n",
            "Epoch 053/075 | Loss 0.0256 | Win/lose count 21.0/11.0 (10.0)\n",
            "Epoch 054/075 | Loss 0.0539 | Win/lose count 13.0/6.0 (7.0)\n",
            "Epoch 055/075 | Loss 0.0191 | Win/lose count 5.0/1.0 (4.0)\n",
            "Epoch 056/075 | Loss 0.0405 | Win/lose count 21.5/8.0 (13.5)\n",
            "Epoch 057/075 | Loss 0.0210 | Win/lose count 3.5/0 (3.5)\n",
            "Epoch 058/075 | Loss 0.0427 | Win/lose count 13.5/3.0 (10.5)\n",
            "Epoch 059/075 | Loss 0.0474 | Win/lose count 11.0/8.0 (3.0)\n",
            "Epoch 060/075 | Loss 0.0426 | Win/lose count 17.5/6.0 (11.5)\n",
            "Epoch 061/075 | Loss 0.0210 | Win/lose count 8.5/6.0 (2.5)\n",
            "Epoch 062/075 | Loss 0.0425 | Win/lose count 18.0/10.0 (8.0)\n",
            "Epoch 063/075 | Loss 0.0245 | Win/lose count 12.5/3.0 (9.5)\n",
            "Epoch 064/075 | Loss 0.0227 | Win/lose count 5.5/2.0 (3.5)\n",
            "Epoch 065/075 | Loss 0.0375 | Win/lose count 8.5/0 (8.5)\n",
            "Epoch 066/075 | Loss 0.0157 | Win/lose count 3.5/0 (3.5)\n",
            "Epoch 067/075 | Loss 0.0083 | Win/lose count 16.0/4.0 (12.0)\n",
            "Epoch 068/075 | Loss 0.0381 | Win/lose count 17.5/9.0 (8.5)\n",
            "Epoch 069/075 | Loss 0.0285 | Win/lose count 12.5/5.0 (7.5)\n",
            "Epoch 070/075 | Loss 0.0183 | Win/lose count 3.0/1.0 (2.0)\n",
            "Epoch 071/075 | Loss 0.0135 | Win/lose count 6.0/1.0 (5.0)\n",
            "Epoch 072/075 | Loss 0.0211 | Win/lose count 11.0/5.0 (6.0)\n",
            "Epoch 073/075 | Loss 0.0236 | Win/lose count 19.0/5.0 (14.0)\n",
            "Epoch 074/075 | Loss 0.0267 | Win/lose count 11.5/2.0 (9.5)\n"
          ],
          "name": "stdout"
        },
        {
          "output_type": "execute_result",
          "data": {
            "text/html": [
              "<video alt=\"test\" controls>\n",
              "                <source src=\"data:video/mp4;base64,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\" type=\"video/mp4\" />\n",
              "             </video>"
            ],
            "text/plain": [
              "<IPython.core.display.HTML object>"
            ]
          },
          "metadata": {
            "tags": []
          },
          "execution_count": 59
        }
      ]
    },
    {
      "cell_type": "code",
      "metadata": {
        "id": "RdsalQeLNs-P",
        "colab_type": "code",
        "colab": {
          "base_uri": "https://localhost:8080/",
          "height": 480
        },
        "outputId": "a0ff6748-624f-4deb-baba-c783c781283a"
      },
      "source": [
        "epochs_test = 10\n",
        "test(mime,env,epochs_test,prefix='cnn_test_explore')\n",
        "HTML(display_videos('cnn_test_explore10.mp4'))"
      ],
      "execution_count": 60,
      "outputs": [
        {
          "output_type": "stream",
          "text": [
            "Win/lose count 14.0/4.0. Average score (10.0)\n",
            "Win/lose count 12.0/10.0. Average score (6.0)\n",
            "Win/lose count 11.5/12.0. Average score (3.8333333333333335)\n",
            "Win/lose count 16.0/9.0. Average score (4.625)\n",
            "Win/lose count 22.5/9.0. Average score (6.4)\n",
            "Win/lose count 9.5/9.0. Average score (5.416666666666667)\n",
            "Win/lose count 15.5/16.0. Average score (4.571428571428571)\n",
            "Win/lose count 20.0/12.0. Average score (5.0)\n",
            "Win/lose count 23.0/16.0. Average score (5.222222222222222)\n",
            "Win/lose count 11.5/11.0. Average score (4.75)\n",
            "Final score: 4.75\n"
          ],
          "name": "stdout"
        },
        {
          "output_type": "execute_result",
          "data": {
            "text/html": [
              "<video alt=\"test\" controls>\n",
              "                <source src=\"data:video/mp4;base64,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\" type=\"video/mp4\" />\n",
              "             </video>"
            ],
            "text/plain": [
              "<IPython.core.display.HTML object>"
            ]
          },
          "metadata": {
            "tags": []
          },
          "execution_count": 60
        }
      ]
    },
    {
      "cell_type": "markdown",
      "metadata": {
        "id": "CY1OK1mwPcLO",
        "colab_type": "text"
      },
      "source": [
        "The mime agent is performing better than the agent without exploration. However, it performs worse than the expert it has learnt from.\n"
      ]
    }
  ]
}